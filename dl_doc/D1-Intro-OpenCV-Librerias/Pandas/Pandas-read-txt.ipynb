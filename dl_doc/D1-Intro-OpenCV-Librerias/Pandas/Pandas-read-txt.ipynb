{
 "cells": [
  {
   "cell_type": "code",
   "execution_count": 1,
   "metadata": {},
   "outputs": [],
   "source": [
    "import os\n",
    "from os import listdir\n",
    "from os.path import isfile, join\n",
    "import time\n",
    "\n",
    "import matplotlib.pyplot as plt\n",
    "import numpy as np\n",
    "import cv2\n",
    "\n",
    "from matplotlib.patches import Rectangle"
   ]
  },
  {
   "cell_type": "code",
   "execution_count": 2,
   "metadata": {},
   "outputs": [
    {
     "data": {
      "image/png": "[encoded data removed]",
      "text/plain": [
       "<Figure size 432x288 with 1 Axes>"
      ]
     },
     "metadata": {
      "needs_background": "light"
     },
     "output_type": "display_data"
    },
    {
     "data": {
      "text/plain": [
       "array([[ 0,  1,  2,  3],\n",
       "       [ 4,  5,  6,  7],\n",
       "       [ 8,  9, 10, 11],\n",
       "       [12, 13, 14, 15]])"
      ]
     },
     "execution_count": 2,
     "metadata": {},
     "output_type": "execute_result"
    }
   ],
   "source": [
    "\n",
    "  \n",
    "  \n",
    "# The image\n",
    "X = np.arange(16).reshape(4, 4)\n",
    "  \n",
    "# highlight some feature in the\n",
    "# middle boxes.\n",
    "fig = plt.figure()\n",
    "  \n",
    "ax = fig.add_subplot(111)\n",
    "ax.imshow(X, cmap = 'gray',\n",
    "          interpolation ='nearest')\n",
    "ax.add_patch( Rectangle((0.5, 0.5),\n",
    "                        2, 2,\n",
    "                        fc ='none', \n",
    "                        ec ='g',\n",
    "                        lw = 3) )\n",
    "  \n",
    "plt.show()\n",
    "X"
   ]
  },
  {
   "cell_type": "code",
   "execution_count": 3,
   "metadata": {},
   "outputs": [
    {
     "data": {
      "image/png": "[encoded data removed]",
      "text/plain": [
       "<Figure size 432x288 with 1 Axes>"
      ]
     },
     "metadata": {
      "needs_background": "light"
     },
     "output_type": "display_data"
    }
   ],
   "source": [
    "fig = plt.figure()\n",
    "ax = fig.add_subplot(111)\n",
    "  \n",
    "rect1 = Rectangle((-200, -100),\n",
    "                  400, 200,\n",
    "                  color ='green')\n",
    "  \n",
    "rect2 = Rectangle((0, 150),                  \n",
    "                  300, 120,\n",
    "                  fc ='none',\n",
    "                  lw = 3,\n",
    "                  color ='b')\n",
    "\n",
    "rect3 = Rectangle((-300, -50),\n",
    "                  40, 200,\n",
    "                  color ='yellow')\n",
    "  \n",
    "ax.add_patch(rect1)\n",
    "ax.add_patch(rect2)\n",
    "ax.add_patch(rect3)\n",
    "  \n",
    "plt.xlim([-400, 400])\n",
    "plt.ylim([-400, 400])\n",
    "  \n",
    "plt.show()"
   ]
  },
  {
   "cell_type": "code",
   "execution_count": null,
   "metadata": {},
   "outputs": [],
   "source": []
  },
  {
   "cell_type": "markdown",
   "metadata": {},
   "source": [
    "\n",
    "# Leer Y Representar formación de capas"
   ]
  },
  {
   "cell_type": "code",
   "execution_count": 57,
   "metadata": {},
   "outputs": [
    {
     "name": "stdout",
     "output_type": "stream",
     "text": [
      "150\n"
     ]
    }
   ],
   "source": [
    "out_pth = './out/'\n",
    "\n",
    "outfiles = [os.path.join(root, name)\n",
    "            for root, dirs, files in os.walk(out_pth)\n",
    "            for name in files\n",
    "            if (name.endswith((\".txt\", \".TXT\")))]\n",
    "\n",
    "\n",
    "print(len(outfiles))"
   ]
  },
  {
   "cell_type": "code",
   "execution_count": 125,
   "metadata": {},
   "outputs": [
    {
     "name": "stdout",
     "output_type": "stream",
     "text": [
      "20\n"
     ]
    },
    {
     "data": {
      "text/plain": [
       "'./out/RES_9000017069Prod_003.txt'"
      ]
     },
     "execution_count": 125,
     "metadata": {},
     "output_type": "execute_result"
    }
   ],
   "source": [
    "myid = [val for val,nm in enumerate(outfiles) if 'RES_9000017069Prod_003' in nm][0]\n",
    "#myid = [val for val,nm in enumerate(outfiles) if 'RES_9000017069Prod_002' in nm][0]\n",
    "#myid = [val for val,nm in enumerate(outfiles) if 'RES_9000017069Prod_001' in nm][0]\n",
    "#myid = [val for val,nm in enumerate(outfiles) if 'RES_9000014751Prod_001' in nm][0]\n",
    "print(myid)\n",
    "outfiles[myid]\n"
   ]
  },
  {
   "cell_type": "code",
   "execution_count": 6,
   "metadata": {},
   "outputs": [],
   "source": [
    "import pandas as pd"
   ]
  },
  {
   "cell_type": "code",
   "execution_count": 36,
   "metadata": {},
   "outputs": [
    {
     "name": "stdout",
     "output_type": "stream",
     "text": [
      "Palet 1200 800 150 1650 975000 1 N S S \n",
      "\n",
      "C|607230    | 160| 390| 170|  80|  10|   0|2| 1300| 100|  1|-|N|D\n",
      "\n",
      "C|608235    | 160| 390| 170|  80| 400|   0|2| 1700|   0|  2|-|N|I\n",
      "\n",
      "C|607230    | 160| 390| 170| 240|  10|   0|2| 1300| 100|  3|-|N|D\n",
      "\n",
      "C|608235    | 160| 390| 170| 240| 400|   0|2| 1700|   0|  4|-|N|I\n",
      "\n",
      "C|607230    | 160| 390| 170| 400|  10|   0|2| 1300| 100|  5|-|N|D\n",
      "\n",
      "C|608235    | 160| 390| 170| 400| 400|   0|2| 1700|   0|  6|-|N|I\n",
      "\n",
      "C|607230    | 160| 390| 170| 560|  10|   0|2| 1300| 100|  7|-|N|D\n",
      "\n",
      "C|608235    | 160| 390| 170| 560| 400|   0|2| 1700|   0|  8|-|N|I\n",
      "\n",
      "C|607230    | 160| 390| 170| 720|  10|   0|2| 1300| 100|  9|-|N|D\n",
      "\n",
      "C|608235    | 160| 390| 170| 720| 400|   0|2| 1700|   0| 10|-|N|I\n",
      "\n",
      "C|607230    | 390| 160| 170|1005| 160|   0|2| 1300| 100| 11|P|N|D\n",
      "\n",
      "C|607230    | 390| 160| 170|1005|   0|   0|2| 1300| 100| 11|P|N|D\n",
      "\n",
      "C|608235    | 390| 160| 170| 995| 480|   0|2| 1700|   0| 12|P|N|I\n",
      "\n",
      "C|608235    | 390| 160| 170| 995| 320|   0|2| 1700|   0| 12|P|N|I\n",
      "\n",
      "C|608235    | 390| 160| 170|1005| 640|   0|2| 1700|   0| 13|-|N|I\n",
      "\n",
      "C|575562    | 290| 400| 270| 155|   0| 170|2| 6650| 100| 14|-|N|D\n",
      "\n",
      "C|575562    | 290| 400| 270| 155| 400| 170|2| 6650|   0| 15|-|N|I\n",
      "\n",
      "C|575562    | 290| 400| 270| 455|   0| 170|2| 6650| 100| 16|-|N|D\n",
      "\n",
      "C|575562    | 290| 400| 270| 455| 400| 170|2| 6650|   0| 17|-|N|I\n",
      "\n",
      "C|575562    | 290| 400| 270| 755|   0| 170|2| 6650| 100| 18|-|N|D\n",
      "\n",
      "C|575562    | 290| 400| 270| 755| 400| 170|2| 6650|   0| 19|-|N|I\n",
      "\n",
      "C|575562    | 290| 400| 270|1055|   0| 170|2| 6650| 100| 20|-|N|D\n",
      "\n",
      "C|575562    | 290| 400| 270|1055| 400| 170|2| 6650|   0| 21|-|N|I\n",
      "\n",
      "C|575562    | 290| 400| 270| 155|   0| 440|2| 6650| 100| 22|-|N|D\n",
      "\n",
      "C|575562    | 290| 400| 270| 155| 400| 440|2| 6650|   0| 23|-|N|I\n",
      "\n",
      "C|575562    | 290| 400| 270| 455|   0| 440|2| 6650| 100| 24|-|N|D\n",
      "\n",
      "C|575562    | 290| 400| 270| 455| 400| 440|2| 6650|   0| 25|-|N|I\n",
      "\n",
      "C|575562    | 290| 400| 270| 755|   0| 440|2| 6650| 100| 26|-|N|D\n",
      "\n",
      "C|575562    | 290| 400| 270| 755| 400| 440|2| 6650|   0| 27|-|N|I\n",
      "\n",
      "C|575562    | 290| 400| 270|1055|   0| 440|2| 6650| 100| 28|-|N|D\n",
      "\n",
      "C|575562    | 290| 400| 270|1055| 400| 440|2| 6650|   0| 29|-|N|I\n",
      "\n",
      "C|590886    | 150| 330| 160|  75|  70| 710|2| 3250| 100| 30|-|N|D\n",
      "\n",
      "C|590886    | 150| 330| 160|  75| 400| 710|2| 3250|   0| 31|-|N|I\n",
      "\n",
      "C|590886    | 150| 330| 160| 225|  70| 710|2| 3250| 100| 32|-|N|D\n",
      "\n",
      "C|590886    | 150| 330| 160| 225| 400| 710|2| 3250|   0| 33|-|N|I\n",
      "\n",
      "C|590886    | 150| 330| 160| 375|  70| 710|2| 3250| 100| 34|-|N|D\n",
      "\n",
      "C|590886    | 150| 330| 160| 375| 400| 710|2| 3250|   0| 35|-|N|I\n",
      "\n",
      "C|590886    | 150| 330| 160| 525|   0| 710|2| 3250| 100| 36|-|N|D\n",
      "\n",
      "C|590886    | 150| 330| 160| 525| 330| 710|2| 3250|   0| 37|-|N|I\n",
      "\n",
      "C|590886    | 150| 330| 160| 675|   0| 710|2| 3250| 100| 38|-|N|D\n",
      "\n",
      "C|590886    | 150| 330| 160| 675| 330| 710|2| 3250|   0| 39|-|N|I\n",
      "\n",
      "C|590886    | 150| 330| 160| 825|   0| 710|2| 3250| 100| 40|-|N|D\n",
      "\n",
      "C|590886    | 150| 330| 160| 825| 330| 710|2| 3250|   0| 41|-|N|I\n",
      "\n",
      "C|590886    | 330| 150| 160| 645| 660| 710|2| 3250|   0| 42|-|N|I\n",
      "\n",
      "C|590886    | 150| 330| 160| 975|   0| 710|2| 3250| 100| 43|-|N|D\n",
      "\n",
      "C|590886    | 150| 330| 160| 975| 330| 710|2| 3250|   0| 44|-|N|I\n",
      "\n",
      "C|590886    | 150| 330| 160|1125|   0| 710|2| 3250| 100| 45|-|N|D\n",
      "\n",
      "C|590886    | 150| 330| 160|1125| 330| 710|2| 3250|   0| 46|-|N|I\n",
      "\n",
      "C|590886    | 330| 150| 160|1005| 660| 710|2| 3250|   0| 47|-|N|I\n",
      "\n",
      "C|600951    | 290| 370| 210| 455|  30| 870|2| 3245| 100| 48|-|N|D\n",
      "\n",
      "C|600963    | 300| 370| 210| 450| 400| 870|2| 3245|   0| 49|-|N|I\n",
      "\n",
      "C|600966    | 290| 370| 210| 755|  30| 870|2| 3245| 100| 50|-|N|D\n",
      "\n",
      "C|600951    | 290| 370| 210| 755| 400| 870|2| 3245|   0| 51|-|N|I\n",
      "\n",
      "C|600966    | 290| 370| 210|1055|  30| 870|2| 3245| 100| 52|-|N|D\n",
      "\n",
      "C|600951    | 290| 370| 210|1055| 400| 870|2| 3245|   0| 53|-|N|I\n",
      "\n",
      "C|600966    | 290| 370| 210| 155|  10| 870|0| 3245| 100| 54|-|N|D\n",
      "\n",
      "C|600963    | 300| 370| 210| 150| 380| 870|0| 3245|   0| 55|-|N|I\n",
      "\n",
      "C|1003569   | 160| 400| 170|  90|   0|1080|2| 2170| 100| 56|-|N|D\n",
      "\n",
      "C|593619    | 160| 400| 170|  90| 400|1080|2| 1200|   0| 57|-|N|I\n",
      "\n",
      "C|1003569   | 400| 160| 170| 380| 160|1080|2| 2170| 100| 58|P|N|D\n",
      "\n",
      "C|1003569   | 400| 160| 170| 380|   0|1080|2| 2170| 100| 58|P|N|D\n",
      "\n",
      "C|593619    | 400| 160| 170| 380| 480|1080|2| 1200|   0| 59|P|N|I\n",
      "\n",
      "C|593619    | 400| 160| 170| 380| 320|1080|2| 1200|   0| 59|P|N|I\n",
      "\n",
      "C|593619    | 400| 160| 170| 380| 640|1080|2| 1200|   0| 60|-|N|I\n",
      "\n",
      "C|1003569   | 160| 400| 170| 690|   0|1080|2| 2170| 100| 61|-|N|D\n",
      "\n",
      "C|593619    | 160| 400| 170| 660| 400|1080|2| 1200|   0| 62|-|N|I\n",
      "\n",
      "C|1003569   | 400| 160| 170| 990|   0|1080|2| 2170| 100| 63|-|N|D\n",
      "\n",
      "C|1003569   | 400| 160| 170| 980| 320|1080|2| 2170|   0| 64|P|N|I\n",
      "\n",
      "C|1003569   | 400| 160| 170| 980| 160|1080|2| 2170|   0| 64|P|N|D\n",
      "\n",
      "C|593619    | 400| 160| 170| 950| 640|1080|2| 1200|   0| 65|P|N|I\n",
      "\n",
      "C|593619    | 400| 160| 170| 950| 480|1080|2| 1200|   0| 65|P|N|I\n",
      "\n",
      "C|593688    | 300| 370| 120|1050|  30|1250|2| 1560| 100| 66|-|N|D\n",
      "\n",
      "C|1001581   | 290| 390| 110|1045| 400|1250|2| 3190|   0| 67|-|N|I\n",
      "\n",
      "C|593688    | 300| 370| 120| 750|  20|1250|0| 1560| 100| 68|-|N|D\n",
      "\n",
      "C|1001581   | 290| 390| 110| 755| 390|1250|0| 3190|   0| 69|-|N|I\n",
      "\n",
      "C|577113    | 150| 330| 150| 525|  50|1250|0| 3100| 100| 70|-|N|D\n",
      "\n",
      "C|590556    | 150| 330| 150| 525| 390|1250|0| 3200|   0| 71|-|N|I\n",
      "\n",
      "C|577113    | 330| 150| 150| 225| -10|1250|0| 3100| 100| 72|-|N|D\n",
      "\n",
      "C|577113    | 150| 330| 150| 375| 140|1250|0| 3100|   0| 73|-|N|D\n",
      "\n",
      "C|590556    | 150| 330| 150| 375| 470|1250|0| 3200|   0| 74|-|N|I\n",
      "\n",
      "C|590556    | 150| 330| 150| 225| 140|1250|0| 3200|   0| 75|-|N|D\n",
      "\n",
      "C|590556    | 150| 330| 150| 225| 470|1250|0| 3200|   0| 76|-|N|I\n",
      "\n",
      "C|590556    | 150| 330| 150|  75| 140|1250|0| 3200|   0| 77|-|N|D\n",
      "\n",
      "C|590556    | 150| 330| 150|  75| 470|1250|0| 3200|   0| 78|-|N|I\n",
      "\n",
      "C|607230    | 160| 390| 170| 680|  20|1370|2| 1300| 100| 79|-|N|D\n",
      "\n",
      "C|599562    | 160| 390| 170| 840|  20|1370|2| 1300| 100| 80|-|N|D\n",
      "\n",
      "C|575562    | 290| 400| 270| 745| 410|1360|2| 6650|   0| 81|-|N|I\n",
      "\n",
      "C|599562    | 160| 390| 170|1000|  20|1370|2| 1300| 100| 82|-|N|D\n",
      "\n",
      "C|1001581   | 290| 390| 110|1035| 410|1360|2| 3190|   0| 83|-|N|I\n",
      "\n",
      "C|599562    | 160| 390| 170| 520| -10|1400|0| 1300| 100| 84|-|N|D\n",
      "\n",
      "C|599562    | 160| 390| 170| 360| -10|1400|0| 1300| 100| 85|-|N|D\n",
      "\n",
      "C|593688    | 370| 300| 120| 415| 380|1400|0| 1560|   0| 86|-|N|I\n",
      "\n"
     ]
    }
   ],
   "source": [
    "with open(outfiles[18]) as f:\n",
    "    for line in f:\n",
    "        print(line)"
   ]
  },
  {
   "cell_type": "code",
   "execution_count": 126,
   "metadata": {},
   "outputs": [],
   "source": [
    "#data = pd.read_csv(outfiles[18], sep=\"|\", header=None)\n",
    "#data = pd.read_csv(outfiles[8], sep=\"|\", header=None,skiprows=1)\n",
    "data = pd.read_csv(outfiles[myid], sep=\"|\", header=None,skiprows=1)\n",
    "\n",
    "\n",
    "data.columns = [\"TYPE\", \"PaletID\", \"WIDTH\", \"LENGTH\", \"HEIGHT\", \"X\", \"Y\", \"Z\", \"A\", \"WEIGHT\", \"B\", \"C,\", \"D\", \"E\", \"F\"]"
   ]
  },
  {
   "cell_type": "code",
   "execution_count": 113,
   "metadata": {},
   "outputs": [
    {
     "data": {
      "text/html": [
       "<div>\n",
       "<style scoped>\n",
       "    .dataframe tbody tr th:only-of-type {\n",
       "        vertical-align: middle;\n",
       "    }\n",
       "\n",
       "    .dataframe tbody tr th {\n",
       "        vertical-align: top;\n",
       "    }\n",
       "\n",
       "    .dataframe thead th {\n",
       "        text-align: right;\n",
       "    }\n",
       "</style>\n",
       "<table border=\"1\" class=\"dataframe\">\n",
       "  <thead>\n",
       "    <tr style=\"text-align: right;\">\n",
       "      <th></th>\n",
       "      <th>TYPE</th>\n",
       "      <th>PaletID</th>\n",
       "      <th>WIDTH</th>\n",
       "      <th>LENGTH</th>\n",
       "      <th>HEIGHT</th>\n",
       "      <th>X</th>\n",
       "      <th>Y</th>\n",
       "      <th>Z</th>\n",
       "      <th>A</th>\n",
       "      <th>WEIGHT</th>\n",
       "      <th>B</th>\n",
       "      <th>C,</th>\n",
       "      <th>D</th>\n",
       "      <th>E</th>\n",
       "      <th>F</th>\n",
       "    </tr>\n",
       "  </thead>\n",
       "  <tbody>\n",
       "    <tr>\n",
       "      <th>0</th>\n",
       "      <td>C</td>\n",
       "      <td>610001</td>\n",
       "      <td>570</td>\n",
       "      <td>400</td>\n",
       "      <td>330</td>\n",
       "      <td>315</td>\n",
       "      <td>0</td>\n",
       "      <td>0</td>\n",
       "      <td>2</td>\n",
       "      <td>13300</td>\n",
       "      <td>100</td>\n",
       "      <td>1</td>\n",
       "      <td>-</td>\n",
       "      <td>N</td>\n",
       "      <td>D</td>\n",
       "    </tr>\n",
       "    <tr>\n",
       "      <th>1</th>\n",
       "      <td>C</td>\n",
       "      <td>610001</td>\n",
       "      <td>570</td>\n",
       "      <td>400</td>\n",
       "      <td>330</td>\n",
       "      <td>895</td>\n",
       "      <td>0</td>\n",
       "      <td>0</td>\n",
       "      <td>2</td>\n",
       "      <td>13300</td>\n",
       "      <td>100</td>\n",
       "      <td>2</td>\n",
       "      <td>-</td>\n",
       "      <td>N</td>\n",
       "      <td>D</td>\n",
       "    </tr>\n",
       "    <tr>\n",
       "      <th>2</th>\n",
       "      <td>C</td>\n",
       "      <td>610001</td>\n",
       "      <td>570</td>\n",
       "      <td>400</td>\n",
       "      <td>330</td>\n",
       "      <td>335</td>\n",
       "      <td>400</td>\n",
       "      <td>0</td>\n",
       "      <td>2</td>\n",
       "      <td>13300</td>\n",
       "      <td>0</td>\n",
       "      <td>3</td>\n",
       "      <td>-</td>\n",
       "      <td>N</td>\n",
       "      <td>I</td>\n",
       "    </tr>\n",
       "    <tr>\n",
       "      <th>3</th>\n",
       "      <td>C</td>\n",
       "      <td>610001</td>\n",
       "      <td>570</td>\n",
       "      <td>400</td>\n",
       "      <td>330</td>\n",
       "      <td>905</td>\n",
       "      <td>400</td>\n",
       "      <td>0</td>\n",
       "      <td>2</td>\n",
       "      <td>13300</td>\n",
       "      <td>0</td>\n",
       "      <td>4</td>\n",
       "      <td>-</td>\n",
       "      <td>N</td>\n",
       "      <td>I</td>\n",
       "    </tr>\n",
       "    <tr>\n",
       "      <th>4</th>\n",
       "      <td>C</td>\n",
       "      <td>580329</td>\n",
       "      <td>290</td>\n",
       "      <td>390</td>\n",
       "      <td>190</td>\n",
       "      <td>155</td>\n",
       "      <td>10</td>\n",
       "      <td>330</td>\n",
       "      <td>2</td>\n",
       "      <td>9500</td>\n",
       "      <td>100</td>\n",
       "      <td>5</td>\n",
       "      <td>-</td>\n",
       "      <td>N</td>\n",
       "      <td>D</td>\n",
       "    </tr>\n",
       "    <tr>\n",
       "      <th>5</th>\n",
       "      <td>C</td>\n",
       "      <td>580329</td>\n",
       "      <td>290</td>\n",
       "      <td>390</td>\n",
       "      <td>190</td>\n",
       "      <td>155</td>\n",
       "      <td>400</td>\n",
       "      <td>330</td>\n",
       "      <td>2</td>\n",
       "      <td>9500</td>\n",
       "      <td>0</td>\n",
       "      <td>6</td>\n",
       "      <td>-</td>\n",
       "      <td>N</td>\n",
       "      <td>I</td>\n",
       "    </tr>\n",
       "    <tr>\n",
       "      <th>6</th>\n",
       "      <td>C</td>\n",
       "      <td>580329</td>\n",
       "      <td>290</td>\n",
       "      <td>390</td>\n",
       "      <td>190</td>\n",
       "      <td>455</td>\n",
       "      <td>10</td>\n",
       "      <td>330</td>\n",
       "      <td>2</td>\n",
       "      <td>9500</td>\n",
       "      <td>100</td>\n",
       "      <td>7</td>\n",
       "      <td>-</td>\n",
       "      <td>N</td>\n",
       "      <td>D</td>\n",
       "    </tr>\n",
       "    <tr>\n",
       "      <th>7</th>\n",
       "      <td>C</td>\n",
       "      <td>580329</td>\n",
       "      <td>290</td>\n",
       "      <td>390</td>\n",
       "      <td>190</td>\n",
       "      <td>455</td>\n",
       "      <td>400</td>\n",
       "      <td>330</td>\n",
       "      <td>2</td>\n",
       "      <td>9500</td>\n",
       "      <td>0</td>\n",
       "      <td>8</td>\n",
       "      <td>-</td>\n",
       "      <td>N</td>\n",
       "      <td>I</td>\n",
       "    </tr>\n",
       "    <tr>\n",
       "      <th>8</th>\n",
       "      <td>C</td>\n",
       "      <td>580329</td>\n",
       "      <td>290</td>\n",
       "      <td>390</td>\n",
       "      <td>190</td>\n",
       "      <td>745</td>\n",
       "      <td>10</td>\n",
       "      <td>330</td>\n",
       "      <td>2</td>\n",
       "      <td>9500</td>\n",
       "      <td>100</td>\n",
       "      <td>9</td>\n",
       "      <td>-</td>\n",
       "      <td>N</td>\n",
       "      <td>D</td>\n",
       "    </tr>\n",
       "    <tr>\n",
       "      <th>9</th>\n",
       "      <td>C</td>\n",
       "      <td>580329</td>\n",
       "      <td>290</td>\n",
       "      <td>390</td>\n",
       "      <td>190</td>\n",
       "      <td>755</td>\n",
       "      <td>400</td>\n",
       "      <td>330</td>\n",
       "      <td>2</td>\n",
       "      <td>9500</td>\n",
       "      <td>0</td>\n",
       "      <td>10</td>\n",
       "      <td>-</td>\n",
       "      <td>N</td>\n",
       "      <td>I</td>\n",
       "    </tr>\n",
       "    <tr>\n",
       "      <th>10</th>\n",
       "      <td>C</td>\n",
       "      <td>580329</td>\n",
       "      <td>290</td>\n",
       "      <td>390</td>\n",
       "      <td>190</td>\n",
       "      <td>1045</td>\n",
       "      <td>10</td>\n",
       "      <td>330</td>\n",
       "      <td>2</td>\n",
       "      <td>9500</td>\n",
       "      <td>100</td>\n",
       "      <td>11</td>\n",
       "      <td>-</td>\n",
       "      <td>N</td>\n",
       "      <td>D</td>\n",
       "    </tr>\n",
       "    <tr>\n",
       "      <th>11</th>\n",
       "      <td>C</td>\n",
       "      <td>580329</td>\n",
       "      <td>290</td>\n",
       "      <td>390</td>\n",
       "      <td>190</td>\n",
       "      <td>1055</td>\n",
       "      <td>400</td>\n",
       "      <td>330</td>\n",
       "      <td>2</td>\n",
       "      <td>9500</td>\n",
       "      <td>0</td>\n",
       "      <td>12</td>\n",
       "      <td>-</td>\n",
       "      <td>N</td>\n",
       "      <td>I</td>\n",
       "    </tr>\n",
       "    <tr>\n",
       "      <th>12</th>\n",
       "      <td>C</td>\n",
       "      <td>610001</td>\n",
       "      <td>570</td>\n",
       "      <td>400</td>\n",
       "      <td>330</td>\n",
       "      <td>315</td>\n",
       "      <td>0</td>\n",
       "      <td>520</td>\n",
       "      <td>2</td>\n",
       "      <td>13300</td>\n",
       "      <td>100</td>\n",
       "      <td>13</td>\n",
       "      <td>-</td>\n",
       "      <td>N</td>\n",
       "      <td>D</td>\n",
       "    </tr>\n",
       "    <tr>\n",
       "      <th>13</th>\n",
       "      <td>C</td>\n",
       "      <td>592008</td>\n",
       "      <td>300</td>\n",
       "      <td>390</td>\n",
       "      <td>200</td>\n",
       "      <td>150</td>\n",
       "      <td>400</td>\n",
       "      <td>520</td>\n",
       "      <td>2</td>\n",
       "      <td>8880</td>\n",
       "      <td>0</td>\n",
       "      <td>14</td>\n",
       "      <td>-</td>\n",
       "      <td>N</td>\n",
       "      <td>I</td>\n",
       "    </tr>\n",
       "    <tr>\n",
       "      <th>14</th>\n",
       "      <td>C</td>\n",
       "      <td>592008</td>\n",
       "      <td>300</td>\n",
       "      <td>390</td>\n",
       "      <td>200</td>\n",
       "      <td>450</td>\n",
       "      <td>400</td>\n",
       "      <td>520</td>\n",
       "      <td>2</td>\n",
       "      <td>8880</td>\n",
       "      <td>0</td>\n",
       "      <td>15</td>\n",
       "      <td>-</td>\n",
       "      <td>N</td>\n",
       "      <td>I</td>\n",
       "    </tr>\n",
       "    <tr>\n",
       "      <th>15</th>\n",
       "      <td>C</td>\n",
       "      <td>610001</td>\n",
       "      <td>570</td>\n",
       "      <td>400</td>\n",
       "      <td>330</td>\n",
       "      <td>895</td>\n",
       "      <td>0</td>\n",
       "      <td>520</td>\n",
       "      <td>2</td>\n",
       "      <td>13300</td>\n",
       "      <td>100</td>\n",
       "      <td>16</td>\n",
       "      <td>-</td>\n",
       "      <td>N</td>\n",
       "      <td>D</td>\n",
       "    </tr>\n",
       "    <tr>\n",
       "      <th>16</th>\n",
       "      <td>C</td>\n",
       "      <td>592008</td>\n",
       "      <td>300</td>\n",
       "      <td>390</td>\n",
       "      <td>200</td>\n",
       "      <td>750</td>\n",
       "      <td>400</td>\n",
       "      <td>520</td>\n",
       "      <td>2</td>\n",
       "      <td>8880</td>\n",
       "      <td>0</td>\n",
       "      <td>17</td>\n",
       "      <td>-</td>\n",
       "      <td>N</td>\n",
       "      <td>I</td>\n",
       "    </tr>\n",
       "    <tr>\n",
       "      <th>17</th>\n",
       "      <td>C</td>\n",
       "      <td>592008</td>\n",
       "      <td>300</td>\n",
       "      <td>390</td>\n",
       "      <td>200</td>\n",
       "      <td>1050</td>\n",
       "      <td>400</td>\n",
       "      <td>520</td>\n",
       "      <td>2</td>\n",
       "      <td>8880</td>\n",
       "      <td>0</td>\n",
       "      <td>18</td>\n",
       "      <td>-</td>\n",
       "      <td>N</td>\n",
       "      <td>I</td>\n",
       "    </tr>\n",
       "    <tr>\n",
       "      <th>18</th>\n",
       "      <td>C</td>\n",
       "      <td>576183</td>\n",
       "      <td>380</td>\n",
       "      <td>400</td>\n",
       "      <td>210</td>\n",
       "      <td>220</td>\n",
       "      <td>0</td>\n",
       "      <td>850</td>\n",
       "      <td>2</td>\n",
       "      <td>3650</td>\n",
       "      <td>100</td>\n",
       "      <td>19</td>\n",
       "      <td>-</td>\n",
       "      <td>N</td>\n",
       "      <td>D</td>\n",
       "    </tr>\n",
       "    <tr>\n",
       "      <th>19</th>\n",
       "      <td>C</td>\n",
       "      <td>598878</td>\n",
       "      <td>200</td>\n",
       "      <td>400</td>\n",
       "      <td>300</td>\n",
       "      <td>100</td>\n",
       "      <td>400</td>\n",
       "      <td>720</td>\n",
       "      <td>2</td>\n",
       "      <td>3750</td>\n",
       "      <td>0</td>\n",
       "      <td>20</td>\n",
       "      <td>-</td>\n",
       "      <td>N</td>\n",
       "      <td>I</td>\n",
       "    </tr>\n",
       "    <tr>\n",
       "      <th>20</th>\n",
       "      <td>C</td>\n",
       "      <td>607935</td>\n",
       "      <td>250</td>\n",
       "      <td>400</td>\n",
       "      <td>320</td>\n",
       "      <td>565</td>\n",
       "      <td>-10</td>\n",
       "      <td>850</td>\n",
       "      <td>2</td>\n",
       "      <td>7300</td>\n",
       "      <td>100</td>\n",
       "      <td>21</td>\n",
       "      <td>-</td>\n",
       "      <td>N</td>\n",
       "      <td>D</td>\n",
       "    </tr>\n",
       "    <tr>\n",
       "      <th>21</th>\n",
       "      <td>C</td>\n",
       "      <td>598878</td>\n",
       "      <td>400</td>\n",
       "      <td>200</td>\n",
       "      <td>300</td>\n",
       "      <td>400</td>\n",
       "      <td>600</td>\n",
       "      <td>720</td>\n",
       "      <td>2</td>\n",
       "      <td>3750</td>\n",
       "      <td>0</td>\n",
       "      <td>22</td>\n",
       "      <td>P</td>\n",
       "      <td>N</td>\n",
       "      <td>I</td>\n",
       "    </tr>\n",
       "    <tr>\n",
       "      <th>22</th>\n",
       "      <td>C</td>\n",
       "      <td>598878</td>\n",
       "      <td>400</td>\n",
       "      <td>200</td>\n",
       "      <td>300</td>\n",
       "      <td>400</td>\n",
       "      <td>400</td>\n",
       "      <td>720</td>\n",
       "      <td>2</td>\n",
       "      <td>3750</td>\n",
       "      <td>0</td>\n",
       "      <td>22</td>\n",
       "      <td>P</td>\n",
       "      <td>N</td>\n",
       "      <td>I</td>\n",
       "    </tr>\n",
       "    <tr>\n",
       "      <th>23</th>\n",
       "      <td>C</td>\n",
       "      <td>607935</td>\n",
       "      <td>250</td>\n",
       "      <td>400</td>\n",
       "      <td>320</td>\n",
       "      <td>815</td>\n",
       "      <td>-10</td>\n",
       "      <td>850</td>\n",
       "      <td>2</td>\n",
       "      <td>7300</td>\n",
       "      <td>100</td>\n",
       "      <td>23</td>\n",
       "      <td>-</td>\n",
       "      <td>N</td>\n",
       "      <td>D</td>\n",
       "    </tr>\n",
       "    <tr>\n",
       "      <th>24</th>\n",
       "      <td>C</td>\n",
       "      <td>592008</td>\n",
       "      <td>300</td>\n",
       "      <td>390</td>\n",
       "      <td>200</td>\n",
       "      <td>750</td>\n",
       "      <td>400</td>\n",
       "      <td>720</td>\n",
       "      <td>2</td>\n",
       "      <td>8880</td>\n",
       "      <td>0</td>\n",
       "      <td>24</td>\n",
       "      <td>-</td>\n",
       "      <td>N</td>\n",
       "      <td>I</td>\n",
       "    </tr>\n",
       "    <tr>\n",
       "      <th>25</th>\n",
       "      <td>C</td>\n",
       "      <td>607935</td>\n",
       "      <td>250</td>\n",
       "      <td>400</td>\n",
       "      <td>320</td>\n",
       "      <td>1075</td>\n",
       "      <td>-10</td>\n",
       "      <td>850</td>\n",
       "      <td>2</td>\n",
       "      <td>7300</td>\n",
       "      <td>100</td>\n",
       "      <td>25</td>\n",
       "      <td>-</td>\n",
       "      <td>N</td>\n",
       "      <td>D</td>\n",
       "    </tr>\n",
       "    <tr>\n",
       "      <th>26</th>\n",
       "      <td>C</td>\n",
       "      <td>592008</td>\n",
       "      <td>300</td>\n",
       "      <td>390</td>\n",
       "      <td>200</td>\n",
       "      <td>1050</td>\n",
       "      <td>400</td>\n",
       "      <td>720</td>\n",
       "      <td>2</td>\n",
       "      <td>8880</td>\n",
       "      <td>0</td>\n",
       "      <td>26</td>\n",
       "      <td>-</td>\n",
       "      <td>N</td>\n",
       "      <td>I</td>\n",
       "    </tr>\n",
       "    <tr>\n",
       "      <th>27</th>\n",
       "      <td>C</td>\n",
       "      <td>1110314</td>\n",
       "      <td>160</td>\n",
       "      <td>390</td>\n",
       "      <td>170</td>\n",
       "      <td>680</td>\n",
       "      <td>400</td>\n",
       "      <td>920</td>\n",
       "      <td>2</td>\n",
       "      <td>1150</td>\n",
       "      <td>0</td>\n",
       "      <td>27</td>\n",
       "      <td>-</td>\n",
       "      <td>N</td>\n",
       "      <td>I</td>\n",
       "    </tr>\n",
       "    <tr>\n",
       "      <th>28</th>\n",
       "      <td>C</td>\n",
       "      <td>1110314</td>\n",
       "      <td>160</td>\n",
       "      <td>390</td>\n",
       "      <td>170</td>\n",
       "      <td>840</td>\n",
       "      <td>400</td>\n",
       "      <td>920</td>\n",
       "      <td>2</td>\n",
       "      <td>1150</td>\n",
       "      <td>0</td>\n",
       "      <td>28</td>\n",
       "      <td>-</td>\n",
       "      <td>N</td>\n",
       "      <td>I</td>\n",
       "    </tr>\n",
       "    <tr>\n",
       "      <th>29</th>\n",
       "      <td>C</td>\n",
       "      <td>581400</td>\n",
       "      <td>160</td>\n",
       "      <td>390</td>\n",
       "      <td>170</td>\n",
       "      <td>1000</td>\n",
       "      <td>400</td>\n",
       "      <td>920</td>\n",
       "      <td>2</td>\n",
       "      <td>1336</td>\n",
       "      <td>0</td>\n",
       "      <td>29</td>\n",
       "      <td>-</td>\n",
       "      <td>N</td>\n",
       "      <td>I</td>\n",
       "    </tr>\n",
       "    <tr>\n",
       "      <th>30</th>\n",
       "      <td>C</td>\n",
       "      <td>581400</td>\n",
       "      <td>160</td>\n",
       "      <td>390</td>\n",
       "      <td>170</td>\n",
       "      <td>340</td>\n",
       "      <td>10</td>\n",
       "      <td>1060</td>\n",
       "      <td>0</td>\n",
       "      <td>1336</td>\n",
       "      <td>100</td>\n",
       "      <td>30</td>\n",
       "      <td>-</td>\n",
       "      <td>N</td>\n",
       "      <td>D</td>\n",
       "    </tr>\n",
       "    <tr>\n",
       "      <th>31</th>\n",
       "      <td>C</td>\n",
       "      <td>590649</td>\n",
       "      <td>590</td>\n",
       "      <td>270</td>\n",
       "      <td>340</td>\n",
       "      <td>735</td>\n",
       "      <td>-10</td>\n",
       "      <td>1170</td>\n",
       "      <td>2</td>\n",
       "      <td>6150</td>\n",
       "      <td>100</td>\n",
       "      <td>31</td>\n",
       "      <td>-</td>\n",
       "      <td>N</td>\n",
       "      <td>D</td>\n",
       "    </tr>\n",
       "    <tr>\n",
       "      <th>32</th>\n",
       "      <td>C</td>\n",
       "      <td>1110323</td>\n",
       "      <td>160</td>\n",
       "      <td>400</td>\n",
       "      <td>170</td>\n",
       "      <td>1000</td>\n",
       "      <td>400</td>\n",
       "      <td>1090</td>\n",
       "      <td>0</td>\n",
       "      <td>1250</td>\n",
       "      <td>52</td>\n",
       "      <td>32</td>\n",
       "      <td>-</td>\n",
       "      <td>N</td>\n",
       "      <td>I</td>\n",
       "    </tr>\n",
       "    <tr>\n",
       "      <th>33</th>\n",
       "      <td>C</td>\n",
       "      <td>583404</td>\n",
       "      <td>320</td>\n",
       "      <td>210</td>\n",
       "      <td>120</td>\n",
       "      <td>760</td>\n",
       "      <td>600</td>\n",
       "      <td>1090</td>\n",
       "      <td>0</td>\n",
       "      <td>2150</td>\n",
       "      <td>0</td>\n",
       "      <td>33</td>\n",
       "      <td>P</td>\n",
       "      <td>N</td>\n",
       "      <td>I</td>\n",
       "    </tr>\n",
       "    <tr>\n",
       "      <th>34</th>\n",
       "      <td>C</td>\n",
       "      <td>583404</td>\n",
       "      <td>320</td>\n",
       "      <td>210</td>\n",
       "      <td>120</td>\n",
       "      <td>760</td>\n",
       "      <td>390</td>\n",
       "      <td>1090</td>\n",
       "      <td>0</td>\n",
       "      <td>2150</td>\n",
       "      <td>0</td>\n",
       "      <td>33</td>\n",
       "      <td>P</td>\n",
       "      <td>N</td>\n",
       "      <td>I</td>\n",
       "    </tr>\n",
       "    <tr>\n",
       "      <th>35</th>\n",
       "      <td>C</td>\n",
       "      <td>607938</td>\n",
       "      <td>290</td>\n",
       "      <td>400</td>\n",
       "      <td>120</td>\n",
       "      <td>775</td>\n",
       "      <td>390</td>\n",
       "      <td>1210</td>\n",
       "      <td>0</td>\n",
       "      <td>6200</td>\n",
       "      <td>100</td>\n",
       "      <td>34</td>\n",
       "      <td>-</td>\n",
       "      <td>N</td>\n",
       "      <td>I</td>\n",
       "    </tr>\n",
       "    <tr>\n",
       "      <th>36</th>\n",
       "      <td>C</td>\n",
       "      <td>584682</td>\n",
       "      <td>190</td>\n",
       "      <td>300</td>\n",
       "      <td>200</td>\n",
       "      <td>345</td>\n",
       "      <td>100</td>\n",
       "      <td>1230</td>\n",
       "      <td>0</td>\n",
       "      <td>3300</td>\n",
       "      <td>100</td>\n",
       "      <td>35</td>\n",
       "      <td>-</td>\n",
       "      <td>N</td>\n",
       "      <td>D</td>\n",
       "    </tr>\n",
       "    <tr>\n",
       "      <th>37</th>\n",
       "      <td>C</td>\n",
       "      <td>577326</td>\n",
       "      <td>250</td>\n",
       "      <td>380</td>\n",
       "      <td>220</td>\n",
       "      <td>475</td>\n",
       "      <td>400</td>\n",
       "      <td>1020</td>\n",
       "      <td>0</td>\n",
       "      <td>5100</td>\n",
       "      <td>0</td>\n",
       "      <td>36</td>\n",
       "      <td>-</td>\n",
       "      <td>N</td>\n",
       "      <td>I</td>\n",
       "    </tr>\n",
       "    <tr>\n",
       "      <th>38</th>\n",
       "      <td>C</td>\n",
       "      <td>577326</td>\n",
       "      <td>250</td>\n",
       "      <td>380</td>\n",
       "      <td>220</td>\n",
       "      <td>125</td>\n",
       "      <td>20</td>\n",
       "      <td>1060</td>\n",
       "      <td>0</td>\n",
       "      <td>5100</td>\n",
       "      <td>100</td>\n",
       "      <td>37</td>\n",
       "      <td>-</td>\n",
       "      <td>N</td>\n",
       "      <td>D</td>\n",
       "    </tr>\n",
       "    <tr>\n",
       "      <th>39</th>\n",
       "      <td>C</td>\n",
       "      <td>577326</td>\n",
       "      <td>250</td>\n",
       "      <td>380</td>\n",
       "      <td>220</td>\n",
       "      <td>225</td>\n",
       "      <td>400</td>\n",
       "      <td>1020</td>\n",
       "      <td>0</td>\n",
       "      <td>5100</td>\n",
       "      <td>0</td>\n",
       "      <td>38</td>\n",
       "      <td>-</td>\n",
       "      <td>N</td>\n",
       "      <td>I</td>\n",
       "    </tr>\n",
       "    <tr>\n",
       "      <th>40</th>\n",
       "      <td>C</td>\n",
       "      <td>577326</td>\n",
       "      <td>250</td>\n",
       "      <td>380</td>\n",
       "      <td>220</td>\n",
       "      <td>125</td>\n",
       "      <td>20</td>\n",
       "      <td>1280</td>\n",
       "      <td>0</td>\n",
       "      <td>5100</td>\n",
       "      <td>100</td>\n",
       "      <td>39</td>\n",
       "      <td>-</td>\n",
       "      <td>N</td>\n",
       "      <td>D</td>\n",
       "    </tr>\n",
       "    <tr>\n",
       "      <th>41</th>\n",
       "      <td>C</td>\n",
       "      <td>590649</td>\n",
       "      <td>590</td>\n",
       "      <td>270</td>\n",
       "      <td>340</td>\n",
       "      <td>335</td>\n",
       "      <td>400</td>\n",
       "      <td>1240</td>\n",
       "      <td>0</td>\n",
       "      <td>6150</td>\n",
       "      <td>0</td>\n",
       "      <td>40</td>\n",
       "      <td>-</td>\n",
       "      <td>N</td>\n",
       "      <td>I</td>\n",
       "    </tr>\n",
       "    <tr>\n",
       "      <th>42</th>\n",
       "      <td>C</td>\n",
       "      <td>577326</td>\n",
       "      <td>250</td>\n",
       "      <td>380</td>\n",
       "      <td>220</td>\n",
       "      <td>755</td>\n",
       "      <td>390</td>\n",
       "      <td>1330</td>\n",
       "      <td>2</td>\n",
       "      <td>5100</td>\n",
       "      <td>100</td>\n",
       "      <td>41</td>\n",
       "      <td>-</td>\n",
       "      <td>N</td>\n",
       "      <td>I</td>\n",
       "    </tr>\n",
       "  </tbody>\n",
       "</table>\n",
       "</div>"
      ],
      "text/plain": [
       "   TYPE  PaletID  WIDTH  LENGTH  HEIGHT     X    Y     Z  A  WEIGHT    B  C,  \\\n",
       "0     C   610001    570     400     330   315    0     0  2   13300  100   1   \n",
       "1     C   610001    570     400     330   895    0     0  2   13300  100   2   \n",
       "2     C   610001    570     400     330   335  400     0  2   13300    0   3   \n",
       "3     C   610001    570     400     330   905  400     0  2   13300    0   4   \n",
       "4     C   580329    290     390     190   155   10   330  2    9500  100   5   \n",
       "5     C   580329    290     390     190   155  400   330  2    9500    0   6   \n",
       "6     C   580329    290     390     190   455   10   330  2    9500  100   7   \n",
       "7     C   580329    290     390     190   455  400   330  2    9500    0   8   \n",
       "8     C   580329    290     390     190   745   10   330  2    9500  100   9   \n",
       "9     C   580329    290     390     190   755  400   330  2    9500    0  10   \n",
       "10    C   580329    290     390     190  1045   10   330  2    9500  100  11   \n",
       "11    C   580329    290     390     190  1055  400   330  2    9500    0  12   \n",
       "12    C   610001    570     400     330   315    0   520  2   13300  100  13   \n",
       "13    C   592008    300     390     200   150  400   520  2    8880    0  14   \n",
       "14    C   592008    300     390     200   450  400   520  2    8880    0  15   \n",
       "15    C   610001    570     400     330   895    0   520  2   13300  100  16   \n",
       "16    C   592008    300     390     200   750  400   520  2    8880    0  17   \n",
       "17    C   592008    300     390     200  1050  400   520  2    8880    0  18   \n",
       "18    C   576183    380     400     210   220    0   850  2    3650  100  19   \n",
       "19    C   598878    200     400     300   100  400   720  2    3750    0  20   \n",
       "20    C   607935    250     400     320   565  -10   850  2    7300  100  21   \n",
       "21    C   598878    400     200     300   400  600   720  2    3750    0  22   \n",
       "22    C   598878    400     200     300   400  400   720  2    3750    0  22   \n",
       "23    C   607935    250     400     320   815  -10   850  2    7300  100  23   \n",
       "24    C   592008    300     390     200   750  400   720  2    8880    0  24   \n",
       "25    C   607935    250     400     320  1075  -10   850  2    7300  100  25   \n",
       "26    C   592008    300     390     200  1050  400   720  2    8880    0  26   \n",
       "27    C  1110314    160     390     170   680  400   920  2    1150    0  27   \n",
       "28    C  1110314    160     390     170   840  400   920  2    1150    0  28   \n",
       "29    C   581400    160     390     170  1000  400   920  2    1336    0  29   \n",
       "30    C   581400    160     390     170   340   10  1060  0    1336  100  30   \n",
       "31    C   590649    590     270     340   735  -10  1170  2    6150  100  31   \n",
       "32    C  1110323    160     400     170  1000  400  1090  0    1250   52  32   \n",
       "33    C   583404    320     210     120   760  600  1090  0    2150    0  33   \n",
       "34    C   583404    320     210     120   760  390  1090  0    2150    0  33   \n",
       "35    C   607938    290     400     120   775  390  1210  0    6200  100  34   \n",
       "36    C   584682    190     300     200   345  100  1230  0    3300  100  35   \n",
       "37    C   577326    250     380     220   475  400  1020  0    5100    0  36   \n",
       "38    C   577326    250     380     220   125   20  1060  0    5100  100  37   \n",
       "39    C   577326    250     380     220   225  400  1020  0    5100    0  38   \n",
       "40    C   577326    250     380     220   125   20  1280  0    5100  100  39   \n",
       "41    C   590649    590     270     340   335  400  1240  0    6150    0  40   \n",
       "42    C   577326    250     380     220   755  390  1330  2    5100  100  41   \n",
       "\n",
       "    D  E  F  \n",
       "0   -  N  D  \n",
       "1   -  N  D  \n",
       "2   -  N  I  \n",
       "3   -  N  I  \n",
       "4   -  N  D  \n",
       "5   -  N  I  \n",
       "6   -  N  D  \n",
       "7   -  N  I  \n",
       "8   -  N  D  \n",
       "9   -  N  I  \n",
       "10  -  N  D  \n",
       "11  -  N  I  \n",
       "12  -  N  D  \n",
       "13  -  N  I  \n",
       "14  -  N  I  \n",
       "15  -  N  D  \n",
       "16  -  N  I  \n",
       "17  -  N  I  \n",
       "18  -  N  D  \n",
       "19  -  N  I  \n",
       "20  -  N  D  \n",
       "21  P  N  I  \n",
       "22  P  N  I  \n",
       "23  -  N  D  \n",
       "24  -  N  I  \n",
       "25  -  N  D  \n",
       "26  -  N  I  \n",
       "27  -  N  I  \n",
       "28  -  N  I  \n",
       "29  -  N  I  \n",
       "30  -  N  D  \n",
       "31  -  N  D  \n",
       "32  -  N  I  \n",
       "33  P  N  I  \n",
       "34  P  N  I  \n",
       "35  -  N  I  \n",
       "36  -  N  D  \n",
       "37  -  N  I  \n",
       "38  -  N  D  \n",
       "39  -  N  I  \n",
       "40  -  N  D  \n",
       "41  -  N  I  \n",
       "42  -  N  I  "
      ]
     },
     "execution_count": 113,
     "metadata": {},
     "output_type": "execute_result"
    }
   ],
   "source": [
    "data"
   ]
  },
  {
   "cell_type": "code",
   "execution_count": 69,
   "metadata": {},
   "outputs": [
    {
     "name": "stdout",
     "output_type": "stream",
     "text": [
      "./out/RES_9000014751Prod_001.txt\n"
     ]
    }
   ],
   "source": [
    "print(outfiles[myid])"
   ]
  },
  {
   "cell_type": "code",
   "execution_count": 127,
   "metadata": {},
   "outputs": [
    {
     "data": {
      "image/png": "[encoded data removed]",
      "text/plain": [
       "<Figure size 432x288 with 1 Axes>"
      ]
     },
     "metadata": {
      "needs_background": "light"
     },
     "output_type": "display_data"
    },
    {
     "name": "stdout",
     "output_type": "stream",
     "text": [
      "./out/RES_9000048856ProdToAnalize_003.txt\n",
      "0\n",
      "Caja :  400 190 130  --  Posición :  800 600 0\n"
     ]
    },
    {
     "data": {
      "image/png": "[encoded data removed]",
      "text/plain": [
       "<Figure size 432x288 with 1 Axes>"
      ]
     },
     "metadata": {
      "needs_background": "light"
     },
     "output_type": "display_data"
    },
    {
     "name": "stdout",
     "output_type": "stream",
     "text": [
      "0\n",
      "Caja :  240 320 130  --  Posición :  960 280 0\n"
     ]
    },
    {
     "data": {
      "image/png": "[encoded data removed]",
      "text/plain": [
       "<Figure size 432x288 with 1 Axes>"
      ]
     },
     "metadata": {
      "needs_background": "light"
     },
     "output_type": "display_data"
    },
    {
     "name": "stdout",
     "output_type": "stream",
     "text": [
      "0\n",
      "Caja :  400 140 130  --  Posición :  400 630 0\n"
     ]
    },
    {
     "data": {
      "image/png": "[encoded data removed]",
      "text/plain": [
       "<Figure size 432x288 with 1 Axes>"
      ]
     },
     "metadata": {
      "needs_background": "light"
     },
     "output_type": "display_data"
    },
    {
     "name": "stdout",
     "output_type": "stream",
     "text": [
      "0\n",
      "Caja :  240 320 130  --  Posición :  720 280 0\n"
     ]
    },
    {
     "data": {
      "image/png": "[encoded data removed]",
      "text/plain": [
       "<Figure size 432x288 with 1 Axes>"
      ]
     },
     "metadata": {
      "needs_background": "light"
     },
     "output_type": "display_data"
    },
    {
     "name": "stdout",
     "output_type": "stream",
     "text": [
      "0\n",
      "Caja :  400 140 130  --  Posición :  800 0 0\n"
     ]
    },
    {
     "data": {
      "image/png": "[encoded data removed]",
      "text/plain": [
       "<Figure size 432x288 with 1 Axes>"
      ]
     },
     "metadata": {
      "needs_background": "light"
     },
     "output_type": "display_data"
    },
    {
     "name": "stdout",
     "output_type": "stream",
     "text": [
      "0\n",
      "Caja :  400 140 130  --  Posición :  800 140 0\n"
     ]
    },
    {
     "data": {
      "image/png": "[encoded data removed]",
      "text/plain": [
       "<Figure size 432x288 with 1 Axes>"
      ]
     },
     "metadata": {
      "needs_background": "light"
     },
     "output_type": "display_data"
    },
    {
     "name": "stdout",
     "output_type": "stream",
     "text": [
      "0\n",
      "Caja :  240 320 130  --  Posición :  480 300 0\n"
     ]
    },
    {
     "data": {
      "image/png": "[encoded data removed]",
      "text/plain": [
       "<Figure size 432x288 with 1 Axes>"
      ]
     },
     "metadata": {
      "needs_background": "light"
     },
     "output_type": "display_data"
    },
    {
     "name": "stdout",
     "output_type": "stream",
     "text": [
      "0\n",
      "Caja :  400 140 130  --  Posición :  0 640 0\n"
     ]
    },
    {
     "data": {
      "image/png": "[encoded data removed]",
      "text/plain": [
       "<Figure size 432x288 with 1 Axes>"
      ]
     },
     "metadata": {
      "needs_background": "light"
     },
     "output_type": "display_data"
    },
    {
     "name": "stdout",
     "output_type": "stream",
     "text": [
      "0\n",
      "Caja :  240 320 130  --  Posición :  240 310 0\n"
     ]
    },
    {
     "data": {
      "image/png": "[encoded data removed]",
      "text/plain": [
       "<Figure size 432x288 with 1 Axes>"
      ]
     },
     "metadata": {
      "needs_background": "light"
     },
     "output_type": "display_data"
    },
    {
     "name": "stdout",
     "output_type": "stream",
     "text": [
      "0\n",
      "Caja :  400 140 130  --  Posición :  400 0 0\n"
     ]
    },
    {
     "data": {
      "image/png": "[encoded data removed]",
      "text/plain": [
       "<Figure size 432x288 with 1 Axes>"
      ]
     },
     "metadata": {
      "needs_background": "light"
     },
     "output_type": "display_data"
    },
    {
     "name": "stdout",
     "output_type": "stream",
     "text": [
      "0\n",
      "Caja :  400 140 130  --  Posición :  400 140 0\n"
     ]
    },
    {
     "data": {
      "image/png": "[encoded data removed]",
      "text/plain": [
       "<Figure size 432x288 with 1 Axes>"
      ]
     },
     "metadata": {
      "needs_background": "light"
     },
     "output_type": "display_data"
    },
    {
     "name": "stdout",
     "output_type": "stream",
     "text": [
      "0\n",
      "Caja :  240 320 130  --  Posición :  0 320 0\n"
     ]
    },
    {
     "data": {
      "image/png": "[encoded data removed]",
      "text/plain": [
       "<Figure size 432x288 with 1 Axes>"
      ]
     },
     "metadata": {
      "needs_background": "light"
     },
     "output_type": "display_data"
    },
    {
     "name": "stdout",
     "output_type": "stream",
     "text": [
      "0\n",
      "Caja :  400 140 130  --  Posición :  0 20 0\n"
     ]
    },
    {
     "data": {
      "image/png": "[encoded data removed]",
      "text/plain": [
       "<Figure size 432x288 with 1 Axes>"
      ]
     },
     "metadata": {
      "needs_background": "light"
     },
     "output_type": "display_data"
    },
    {
     "name": "stdout",
     "output_type": "stream",
     "text": [
      "0\n",
      "Caja :  400 140 130  --  Posición :  0 160 0\n"
     ]
    },
    {
     "data": {
      "image/png": "[encoded data removed]",
      "text/plain": [
       "<Figure size 432x288 with 1 Axes>"
      ]
     },
     "metadata": {
      "needs_background": "light"
     },
     "output_type": "display_data"
    },
    {
     "name": "stdout",
     "output_type": "stream",
     "text": [
      "130\n",
      "Caja :  290 390 180  --  Posición :  10 400 130\n"
     ]
    },
    {
     "data": {
      "image/png": "[encoded data removed]",
      "text/plain": [
       "<Figure size 432x288 with 1 Axes>"
      ]
     },
     "metadata": {
      "needs_background": "light"
     },
     "output_type": "display_data"
    },
    {
     "name": "stdout",
     "output_type": "stream",
     "text": [
      "130\n",
      "Caja :  290 390 180  --  Posición :  10 10 130\n"
     ]
    },
    {
     "data": {
      "image/png": "[encoded data removed]",
      "text/plain": [
       "<Figure size 432x288 with 1 Axes>"
      ]
     },
     "metadata": {
      "needs_background": "light"
     },
     "output_type": "display_data"
    },
    {
     "name": "stdout",
     "output_type": "stream",
     "text": [
      "130\n",
      "Caja :  290 390 180  --  Posición :  310 400 130\n"
     ]
    },
    {
     "data": {
      "image/png": "[encoded data removed]",
      "text/plain": [
       "<Figure size 432x288 with 1 Axes>"
      ]
     },
     "metadata": {
      "needs_background": "light"
     },
     "output_type": "display_data"
    },
    {
     "name": "stdout",
     "output_type": "stream",
     "text": [
      "130\n",
      "Caja :  290 390 180  --  Posición :  310 0 130\n"
     ]
    },
    {
     "data": {
      "image/png": "[encoded data removed]",
      "text/plain": [
       "<Figure size 432x288 with 1 Axes>"
      ]
     },
     "metadata": {
      "needs_background": "light"
     },
     "output_type": "display_data"
    },
    {
     "name": "stdout",
     "output_type": "stream",
     "text": [
      "130\n",
      "Caja :  290 390 180  --  Posición :  610 400 130\n"
     ]
    },
    {
     "data": {
      "image/png": "[encoded data removed]",
      "text/plain": [
       "<Figure size 432x288 with 1 Axes>"
      ]
     },
     "metadata": {
      "needs_background": "light"
     },
     "output_type": "display_data"
    },
    {
     "name": "stdout",
     "output_type": "stream",
     "text": [
      "130\n",
      "Caja :  290 390 180  --  Posición :  610 0 130\n"
     ]
    },
    {
     "data": {
      "image/png": "[encoded data removed]",
      "text/plain": [
       "<Figure size 432x288 with 1 Axes>"
      ]
     },
     "metadata": {
      "needs_background": "light"
     },
     "output_type": "display_data"
    },
    {
     "name": "stdout",
     "output_type": "stream",
     "text": [
      "130\n",
      "Caja :  290 390 180  --  Posición :  910 400 130\n"
     ]
    },
    {
     "data": {
      "image/png": "[encoded data removed]",
      "text/plain": [
       "<Figure size 432x288 with 1 Axes>"
      ]
     },
     "metadata": {
      "needs_background": "light"
     },
     "output_type": "display_data"
    },
    {
     "name": "stdout",
     "output_type": "stream",
     "text": [
      "130\n",
      "Caja :  290 390 180  --  Posición :  910 10 130\n"
     ]
    },
    {
     "data": {
      "image/png": "[encoded data removed]",
      "text/plain": [
       "<Figure size 432x288 with 1 Axes>"
      ]
     },
     "metadata": {
      "needs_background": "light"
     },
     "output_type": "display_data"
    },
    {
     "name": "stdout",
     "output_type": "stream",
     "text": [
      "310\n",
      "Caja :  300 390 280  --  Posición :  0 400 310\n"
     ]
    },
    {
     "data": {
      "image/png": "[encoded data removed]",
      "text/plain": [
       "<Figure size 432x288 with 1 Axes>"
      ]
     },
     "metadata": {
      "needs_background": "light"
     },
     "output_type": "display_data"
    },
    {
     "name": "stdout",
     "output_type": "stream",
     "text": [
      "310\n",
      "Caja :  240 400 170  --  Posición :  0 0 310\n"
     ]
    },
    {
     "data": {
      "image/png": "[encoded data removed]",
      "text/plain": [
       "<Figure size 432x288 with 1 Axes>"
      ]
     },
     "metadata": {
      "needs_background": "light"
     },
     "output_type": "display_data"
    },
    {
     "name": "stdout",
     "output_type": "stream",
     "text": [
      "310\n",
      "Caja :  300 390 280  --  Posición :  300 400 310\n"
     ]
    },
    {
     "data": {
      "image/png": "[encoded data removed]",
      "text/plain": [
       "<Figure size 432x288 with 1 Axes>"
      ]
     },
     "metadata": {
      "needs_background": "light"
     },
     "output_type": "display_data"
    },
    {
     "name": "stdout",
     "output_type": "stream",
     "text": [
      "310\n",
      "Caja :  240 400 170  --  Posición :  240 0 310\n"
     ]
    },
    {
     "data": {
      "image/png": "[encoded data removed]",
      "text/plain": [
       "<Figure size 432x288 with 1 Axes>"
      ]
     },
     "metadata": {
      "needs_background": "light"
     },
     "output_type": "display_data"
    },
    {
     "name": "stdout",
     "output_type": "stream",
     "text": [
      "310\n",
      "Caja :  300 390 280  --  Posición :  600 400 310\n"
     ]
    },
    {
     "data": {
      "image/png": "[encoded data removed]",
      "text/plain": [
       "<Figure size 432x288 with 1 Axes>"
      ]
     },
     "metadata": {
      "needs_background": "light"
     },
     "output_type": "display_data"
    },
    {
     "name": "stdout",
     "output_type": "stream",
     "text": [
      "310\n",
      "Caja :  240 400 170  --  Posición :  480 0 310\n"
     ]
    },
    {
     "data": {
      "image/png": "[encoded data removed]",
      "text/plain": [
       "<Figure size 432x288 with 1 Axes>"
      ]
     },
     "metadata": {
      "needs_background": "light"
     },
     "output_type": "display_data"
    },
    {
     "name": "stdout",
     "output_type": "stream",
     "text": [
      "310\n",
      "Caja :  300 390 280  --  Posición :  900 400 310\n"
     ]
    },
    {
     "data": {
      "image/png": "[encoded data removed]",
      "text/plain": [
       "<Figure size 432x288 with 1 Axes>"
      ]
     },
     "metadata": {
      "needs_background": "light"
     },
     "output_type": "display_data"
    },
    {
     "name": "stdout",
     "output_type": "stream",
     "text": [
      "310\n",
      "Caja :  240 400 170  --  Posición :  720 0 310\n"
     ]
    },
    {
     "data": {
      "image/png": "[encoded data removed]",
      "text/plain": [
       "<Figure size 432x288 with 1 Axes>"
      ]
     },
     "metadata": {
      "needs_background": "light"
     },
     "output_type": "display_data"
    },
    {
     "name": "stdout",
     "output_type": "stream",
     "text": [
      "310\n",
      "Caja :  240 400 170  --  Posición :  960 0 310\n"
     ]
    },
    {
     "data": {
      "image/png": "[encoded data removed]",
      "text/plain": [
       "<Figure size 432x288 with 1 Axes>"
      ]
     },
     "metadata": {
      "needs_background": "light"
     },
     "output_type": "display_data"
    },
    {
     "name": "stdout",
     "output_type": "stream",
     "text": [
      "590\n",
      "Caja :  240 320 130  --  Posición :  960 400 590\n"
     ]
    },
    {
     "data": {
      "image/png": "[encoded data removed]",
      "text/plain": [
       "<Figure size 432x288 with 1 Axes>"
      ]
     },
     "metadata": {
      "needs_background": "light"
     },
     "output_type": "display_data"
    },
    {
     "name": "stdout",
     "output_type": "stream",
     "text": [
      "590\n",
      "Caja :  400 140 130  --  Posición :  510 640 590\n"
     ]
    },
    {
     "data": {
      "image/png": "[encoded data removed]",
      "text/plain": [
       "<Figure size 432x288 with 1 Axes>"
      ]
     },
     "metadata": {
      "needs_background": "light"
     },
     "output_type": "display_data"
    },
    {
     "name": "stdout",
     "output_type": "stream",
     "text": [
      "590\n",
      "Caja :  320 240 130  --  Posición :  640 400 590\n"
     ]
    },
    {
     "data": {
      "image/png": "[encoded data removed]",
      "text/plain": [
       "<Figure size 432x288 with 1 Axes>"
      ]
     },
     "metadata": {
      "needs_background": "light"
     },
     "output_type": "display_data"
    },
    {
     "name": "stdout",
     "output_type": "stream",
     "text": [
      "480\n",
      "Caja :  280 380 150  --  Posición :  910 20 480\n"
     ]
    },
    {
     "data": {
      "image/png": "[encoded data removed]",
      "text/plain": [
       "<Figure size 432x288 with 1 Axes>"
      ]
     },
     "metadata": {
      "needs_background": "light"
     },
     "output_type": "display_data"
    },
    {
     "name": "stdout",
     "output_type": "stream",
     "text": [
      "590\n",
      "Caja :  390 140 130  --  Posición :  60 640 590\n"
     ]
    },
    {
     "data": {
      "image/png": "[encoded data removed]",
      "text/plain": [
       "<Figure size 432x288 with 1 Axes>"
      ]
     },
     "metadata": {
      "needs_background": "light"
     },
     "output_type": "display_data"
    },
    {
     "name": "stdout",
     "output_type": "stream",
     "text": [
      "590\n",
      "Caja :  320 240 130  --  Posición :  320 400 590\n"
     ]
    },
    {
     "data": {
      "image/png": "[encoded data removed]",
      "text/plain": [
       "<Figure size 432x288 with 1 Axes>"
      ]
     },
     "metadata": {
      "needs_background": "light"
     },
     "output_type": "display_data"
    },
    {
     "name": "stdout",
     "output_type": "stream",
     "text": [
      "480\n",
      "Caja :  280 380 150  --  Posición :  620 20 480\n"
     ]
    },
    {
     "data": {
      "image/png": "[encoded data removed]",
      "text/plain": [
       "<Figure size 432x288 with 1 Axes>"
      ]
     },
     "metadata": {
      "needs_background": "light"
     },
     "output_type": "display_data"
    },
    {
     "name": "stdout",
     "output_type": "stream",
     "text": [
      "480\n",
      "Caja :  280 380 150  --  Posición :  320 10 480\n"
     ]
    },
    {
     "data": {
      "image/png": "[encoded data removed]",
      "text/plain": [
       "<Figure size 432x288 with 1 Axes>"
      ]
     },
     "metadata": {
      "needs_background": "light"
     },
     "output_type": "display_data"
    },
    {
     "name": "stdout",
     "output_type": "stream",
     "text": [
      "590\n",
      "Caja :  320 240 130  --  Posición :  0 400 590\n"
     ]
    },
    {
     "data": {
      "image/png": "[encoded data removed]",
      "text/plain": [
       "<Figure size 432x288 with 1 Axes>"
      ]
     },
     "metadata": {
      "needs_background": "light"
     },
     "output_type": "display_data"
    },
    {
     "name": "stdout",
     "output_type": "stream",
     "text": [
      "480\n",
      "Caja :  280 380 150  --  Posición :  20 20 480\n"
     ]
    },
    {
     "data": {
      "image/png": "[encoded data removed]",
      "text/plain": [
       "<Figure size 432x288 with 1 Axes>"
      ]
     },
     "metadata": {
      "needs_background": "light"
     },
     "output_type": "display_data"
    },
    {
     "name": "stdout",
     "output_type": "stream",
     "text": [
      "720\n",
      "Caja :  290 210 110  --  Posición :  600 390 720\n"
     ]
    },
    {
     "data": {
      "image/png": "[encoded data removed]",
      "text/plain": [
       "<Figure size 432x288 with 1 Axes>"
      ]
     },
     "metadata": {
      "needs_background": "light"
     },
     "output_type": "display_data"
    },
    {
     "name": "stdout",
     "output_type": "stream",
     "text": [
      "720\n",
      "Caja :  290 210 110  --  Posición :  600 600 720\n"
     ]
    },
    {
     "data": {
      "image/png": "[encoded data removed]",
      "text/plain": [
       "<Figure size 432x288 with 1 Axes>"
      ]
     },
     "metadata": {
      "needs_background": "light"
     },
     "output_type": "display_data"
    },
    {
     "name": "stdout",
     "output_type": "stream",
     "text": [
      "720\n",
      "Caja :  280 370 130  --  Posición :  310 400 720\n"
     ]
    },
    {
     "data": {
      "image/png": "[encoded data removed]",
      "text/plain": [
       "<Figure size 432x288 with 1 Axes>"
      ]
     },
     "metadata": {
      "needs_background": "light"
     },
     "output_type": "display_data"
    },
    {
     "name": "stdout",
     "output_type": "stream",
     "text": [
      "630\n",
      "Caja :  300 190 210  --  Posición :  300 20 630\n"
     ]
    },
    {
     "data": {
      "image/png": "[encoded data removed]",
      "text/plain": [
       "<Figure size 432x288 with 1 Axes>"
      ]
     },
     "metadata": {
      "needs_background": "light"
     },
     "output_type": "display_data"
    },
    {
     "name": "stdout",
     "output_type": "stream",
     "text": [
      "630\n",
      "Caja :  300 190 210  --  Posición :  300 210 630\n"
     ]
    },
    {
     "data": {
      "image/png": "[encoded data removed]",
      "text/plain": [
       "<Figure size 432x288 with 1 Axes>"
      ]
     },
     "metadata": {
      "needs_background": "light"
     },
     "output_type": "display_data"
    },
    {
     "name": "stdout",
     "output_type": "stream",
     "text": [
      "720\n",
      "Caja :  280 370 130  --  Posición :  20 400 720\n"
     ]
    },
    {
     "data": {
      "image/png": "[encoded data removed]",
      "text/plain": [
       "<Figure size 432x288 with 1 Axes>"
      ]
     },
     "metadata": {
      "needs_background": "light"
     },
     "output_type": "display_data"
    },
    {
     "name": "stdout",
     "output_type": "stream",
     "text": [
      "630\n",
      "Caja :  300 190 210  --  Posición :  0 20 630\n"
     ]
    },
    {
     "data": {
      "image/png": "[encoded data removed]",
      "text/plain": [
       "<Figure size 432x288 with 1 Axes>"
      ]
     },
     "metadata": {
      "needs_background": "light"
     },
     "output_type": "display_data"
    },
    {
     "name": "stdout",
     "output_type": "stream",
     "text": [
      "630\n",
      "Caja :  300 190 210  --  Posición :  0 210 630\n"
     ]
    },
    {
     "data": {
      "image/png": "[encoded data removed]",
      "text/plain": [
       "<Figure size 432x288 with 1 Axes>"
      ]
     },
     "metadata": {
      "needs_background": "light"
     },
     "output_type": "display_data"
    },
    {
     "name": "stdout",
     "output_type": "stream",
     "text": [
      "830\n",
      "Caja :  280 210 110  --  Posición :  600 390 830\n"
     ]
    },
    {
     "data": {
      "image/png": "[encoded data removed]",
      "text/plain": [
       "<Figure size 432x288 with 1 Axes>"
      ]
     },
     "metadata": {
      "needs_background": "light"
     },
     "output_type": "display_data"
    },
    {
     "name": "stdout",
     "output_type": "stream",
     "text": [
      "830\n",
      "Caja :  280 210 110  --  Posición :  600 600 830\n"
     ]
    },
    {
     "data": {
      "image/png": "[encoded data removed]",
      "text/plain": [
       "<Figure size 432x288 with 1 Axes>"
      ]
     },
     "metadata": {
      "needs_background": "light"
     },
     "output_type": "display_data"
    },
    {
     "name": "stdout",
     "output_type": "stream",
     "text": [
      "720\n",
      "Caja :  240 400 170  --  Posición :  890 390 720\n"
     ]
    },
    {
     "data": {
      "image/png": "[encoded data removed]",
      "text/plain": [
       "<Figure size 432x288 with 1 Axes>"
      ]
     },
     "metadata": {
      "needs_background": "light"
     },
     "output_type": "display_data"
    },
    {
     "name": "stdout",
     "output_type": "stream",
     "text": [
      "630\n",
      "Caja :  280 380 150  --  Posición :  620 10 630\n"
     ]
    },
    {
     "data": {
      "image/png": "[encoded data removed]",
      "text/plain": [
       "<Figure size 432x288 with 1 Axes>"
      ]
     },
     "metadata": {
      "needs_background": "light"
     },
     "output_type": "display_data"
    },
    {
     "name": "stdout",
     "output_type": "stream",
     "text": [
      "630\n",
      "Caja :  280 380 150  --  Posición :  910 10 630\n"
     ]
    },
    {
     "data": {
      "image/png": "[encoded data removed]",
      "text/plain": [
       "<Figure size 432x288 with 1 Axes>"
      ]
     },
     "metadata": {
      "needs_background": "light"
     },
     "output_type": "display_data"
    },
    {
     "name": "stdout",
     "output_type": "stream",
     "text": [
      "780\n",
      "Caja :  230 170 160  --  Posición :  600 220 780\n"
     ]
    },
    {
     "data": {
      "image/png": "[encoded data removed]",
      "text/plain": [
       "<Figure size 432x288 with 1 Axes>"
      ]
     },
     "metadata": {
      "needs_background": "light"
     },
     "output_type": "display_data"
    },
    {
     "name": "stdout",
     "output_type": "stream",
     "text": [
      "780\n",
      "Caja :  170 230 160  --  Posición :  600 -10 780\n"
     ]
    },
    {
     "data": {
      "image/png": "[encoded data removed]",
      "text/plain": [
       "<Figure size 432x288 with 1 Axes>"
      ]
     },
     "metadata": {
      "needs_background": "light"
     },
     "output_type": "display_data"
    },
    {
     "name": "stdout",
     "output_type": "stream",
     "text": [
      "890\n",
      "Caja :  300 190 210  --  Posición :  880 390 890\n"
     ]
    },
    {
     "data": {
      "image/png": "[encoded data removed]",
      "text/plain": [
       "<Figure size 432x288 with 1 Axes>"
      ]
     },
     "metadata": {
      "needs_background": "light"
     },
     "output_type": "display_data"
    },
    {
     "name": "stdout",
     "output_type": "stream",
     "text": [
      "890\n",
      "Caja :  300 190 210  --  Posición :  880 580 890\n"
     ]
    },
    {
     "data": {
      "image/png": "[encoded data removed]",
      "text/plain": [
       "<Figure size 432x288 with 1 Axes>"
      ]
     },
     "metadata": {
      "needs_background": "light"
     },
     "output_type": "display_data"
    },
    {
     "name": "stdout",
     "output_type": "stream",
     "text": [
      "780\n",
      "Caja :  230 170 160  --  Posición :  830 220 780\n"
     ]
    },
    {
     "data": {
      "image/png": "[encoded data removed]",
      "text/plain": [
       "<Figure size 432x288 with 1 Axes>"
      ]
     },
     "metadata": {
      "needs_background": "light"
     },
     "output_type": "display_data"
    },
    {
     "name": "stdout",
     "output_type": "stream",
     "text": [
      "780\n",
      "Caja :  170 230 160  --  Posición :  770 -10 780\n"
     ]
    },
    {
     "data": {
      "image/png": "[encoded data removed]",
      "text/plain": [
       "<Figure size 432x288 with 1 Axes>"
      ]
     },
     "metadata": {
      "needs_background": "light"
     },
     "output_type": "display_data"
    },
    {
     "name": "stdout",
     "output_type": "stream",
     "text": [
      "780\n",
      "Caja :  170 230 160  --  Posición :  940 -10 780\n"
     ]
    },
    {
     "data": {
      "image/png": "[encoded data removed]",
      "text/plain": [
       "<Figure size 432x288 with 1 Axes>"
      ]
     },
     "metadata": {
      "needs_background": "light"
     },
     "output_type": "display_data"
    },
    {
     "name": "stdout",
     "output_type": "stream",
     "text": [
      "940\n",
      "Caja :  230 310 150  --  Posición :  920 10 940\n"
     ]
    },
    {
     "data": {
      "image/png": "[encoded data removed]",
      "text/plain": [
       "<Figure size 432x288 with 1 Axes>"
      ]
     },
     "metadata": {
      "needs_background": "light"
     },
     "output_type": "display_data"
    },
    {
     "name": "stdout",
     "output_type": "stream",
     "text": [
      "940\n",
      "Caja :  310 230 150  --  Posición :  570 350 940\n"
     ]
    },
    {
     "data": {
      "image/png": "[encoded data removed]",
      "text/plain": [
       "<Figure size 432x288 with 1 Axes>"
      ]
     },
     "metadata": {
      "needs_background": "light"
     },
     "output_type": "display_data"
    },
    {
     "name": "stdout",
     "output_type": "stream",
     "text": [
      "940\n",
      "Caja :  310 230 150  --  Posición :  570 580 940\n"
     ]
    },
    {
     "data": {
      "image/png": "[encoded data removed]",
      "text/plain": [
       "<Figure size 432x288 with 1 Axes>"
      ]
     },
     "metadata": {
      "needs_background": "light"
     },
     "output_type": "display_data"
    },
    {
     "name": "stdout",
     "output_type": "stream",
     "text": [
      "850\n",
      "Caja :  160 220 140  --  Posición :  410 370 850\n"
     ]
    },
    {
     "data": {
      "image/png": "[encoded data removed]",
      "text/plain": [
       "<Figure size 432x288 with 1 Axes>"
      ]
     },
     "metadata": {
      "needs_background": "light"
     },
     "output_type": "display_data"
    },
    {
     "name": "stdout",
     "output_type": "stream",
     "text": [
      "850\n",
      "Caja :  160 220 140  --  Posición :  410 590 850\n"
     ]
    },
    {
     "data": {
      "image/png": "[encoded data removed]",
      "text/plain": [
       "<Figure size 432x288 with 1 Axes>"
      ]
     },
     "metadata": {
      "needs_background": "light"
     },
     "output_type": "display_data"
    },
    {
     "name": "stdout",
     "output_type": "stream",
     "text": [
      "850\n",
      "Caja :  160 220 140  --  Posición :  250 360 850\n"
     ]
    },
    {
     "data": {
      "image/png": "[encoded data removed]",
      "text/plain": [
       "<Figure size 432x288 with 1 Axes>"
      ]
     },
     "metadata": {
      "needs_background": "light"
     },
     "output_type": "display_data"
    },
    {
     "name": "stdout",
     "output_type": "stream",
     "text": [
      "850\n",
      "Caja :  160 220 140  --  Posición :  250 580 850\n"
     ]
    },
    {
     "data": {
      "image/png": "[encoded data removed]",
      "text/plain": [
       "<Figure size 432x288 with 1 Axes>"
      ]
     },
     "metadata": {
      "needs_background": "light"
     },
     "output_type": "display_data"
    },
    {
     "name": "stdout",
     "output_type": "stream",
     "text": [
      "840\n",
      "Caja :  260 340 100  --  Posición :  260 20 840\n"
     ]
    },
    {
     "data": {
      "image/png": "[encoded data removed]",
      "text/plain": [
       "<Figure size 432x288 with 1 Axes>"
      ]
     },
     "metadata": {
      "needs_background": "light"
     },
     "output_type": "display_data"
    },
    {
     "name": "stdout",
     "output_type": "stream",
     "text": [
      "940\n",
      "Caja :  230 310 150  --  Posición :  690 30 940\n"
     ]
    },
    {
     "data": {
      "image/png": "[encoded data removed]",
      "text/plain": [
       "<Figure size 432x288 with 1 Axes>"
      ]
     },
     "metadata": {
      "needs_background": "light"
     },
     "output_type": "display_data"
    },
    {
     "name": "stdout",
     "output_type": "stream",
     "text": [
      "990\n",
      "Caja :  300 230 100  --  Posición :  260 330 990\n"
     ]
    },
    {
     "data": {
      "image/png": "[encoded data removed]",
      "text/plain": [
       "<Figure size 432x288 with 1 Axes>"
      ]
     },
     "metadata": {
      "needs_background": "light"
     },
     "output_type": "display_data"
    },
    {
     "name": "stdout",
     "output_type": "stream",
     "text": [
      "990\n",
      "Caja :  300 230 100  --  Posición :  260 560 990\n"
     ]
    },
    {
     "data": {
      "image/png": "[encoded data removed]",
      "text/plain": [
       "<Figure size 432x288 with 1 Axes>"
      ]
     },
     "metadata": {
      "needs_background": "light"
     },
     "output_type": "display_data"
    },
    {
     "name": "stdout",
     "output_type": "stream",
     "text": [
      "850\n",
      "Caja :  230 170 160  --  Posición :  20 400 850\n"
     ]
    },
    {
     "data": {
      "image/png": "[encoded data removed]",
      "text/plain": [
       "<Figure size 432x288 with 1 Axes>"
      ]
     },
     "metadata": {
      "needs_background": "light"
     },
     "output_type": "display_data"
    },
    {
     "name": "stdout",
     "output_type": "stream",
     "text": [
      "850\n",
      "Caja :  230 170 160  --  Posición :  20 570 850\n"
     ]
    },
    {
     "data": {
      "image/png": "[encoded data removed]",
      "text/plain": [
       "<Figure size 432x288 with 1 Axes>"
      ]
     },
     "metadata": {
      "needs_background": "light"
     },
     "output_type": "display_data"
    },
    {
     "name": "stdout",
     "output_type": "stream",
     "text": [
      "840\n",
      "Caja :  260 340 100  --  Posición :  0 20 840\n"
     ]
    },
    {
     "data": {
      "image/png": "[encoded data removed]",
      "text/plain": [
       "<Figure size 432x288 with 1 Axes>"
      ]
     },
     "metadata": {
      "needs_background": "light"
     },
     "output_type": "display_data"
    },
    {
     "name": "stdout",
     "output_type": "stream",
     "text": [
      "940\n",
      "Caja :  230 310 150  --  Posición :  460 20 940\n"
     ]
    },
    {
     "data": {
      "image/png": "[encoded data removed]",
      "text/plain": [
       "<Figure size 432x288 with 1 Axes>"
      ]
     },
     "metadata": {
      "needs_background": "light"
     },
     "output_type": "display_data"
    },
    {
     "name": "stdout",
     "output_type": "stream",
     "text": [
      "1090\n",
      "Caja :  310 230 150  --  Posición :  570 350 1090\n"
     ]
    },
    {
     "data": {
      "image/png": "[encoded data removed]",
      "text/plain": [
       "<Figure size 432x288 with 1 Axes>"
      ]
     },
     "metadata": {
      "needs_background": "light"
     },
     "output_type": "display_data"
    },
    {
     "name": "stdout",
     "output_type": "stream",
     "text": [
      "1090\n",
      "Caja :  310 230 150  --  Posición :  570 580 1090\n"
     ]
    },
    {
     "data": {
      "image/png": "[encoded data removed]",
      "text/plain": [
       "<Figure size 432x288 with 1 Axes>"
      ]
     },
     "metadata": {
      "needs_background": "light"
     },
     "output_type": "display_data"
    },
    {
     "name": "stdout",
     "output_type": "stream",
     "text": [
      "1090\n",
      "Caja :  310 230 150  --  Posición :  260 330 1090\n"
     ]
    },
    {
     "data": {
      "image/png": "[encoded data removed]",
      "text/plain": [
       "<Figure size 432x288 with 1 Axes>"
      ]
     },
     "metadata": {
      "needs_background": "light"
     },
     "output_type": "display_data"
    },
    {
     "name": "stdout",
     "output_type": "stream",
     "text": [
      "1090\n",
      "Caja :  310 230 150  --  Posición :  260 560 1090\n"
     ]
    },
    {
     "data": {
      "image/png": "[encoded data removed]",
      "text/plain": [
       "<Figure size 432x288 with 1 Axes>"
      ]
     },
     "metadata": {
      "needs_background": "light"
     },
     "output_type": "display_data"
    },
    {
     "name": "stdout",
     "output_type": "stream",
     "text": [
      "1010\n",
      "Caja :  250 330 120  --  Posición :  0 350 1010\n"
     ]
    },
    {
     "data": {
      "image/png": "[encoded data removed]",
      "text/plain": [
       "<Figure size 432x288 with 1 Axes>"
      ]
     },
     "metadata": {
      "needs_background": "light"
     },
     "output_type": "display_data"
    },
    {
     "name": "stdout",
     "output_type": "stream",
     "text": [
      "940\n",
      "Caja :  230 310 150  --  Posición :  230 20 940\n"
     ]
    },
    {
     "data": {
      "image/png": "[encoded data removed]",
      "text/plain": [
       "<Figure size 432x288 with 1 Axes>"
      ]
     },
     "metadata": {
      "needs_background": "light"
     },
     "output_type": "display_data"
    },
    {
     "name": "stdout",
     "output_type": "stream",
     "text": [
      "940\n",
      "Caja :  230 310 150  --  Posición :  0 40 940\n"
     ]
    },
    {
     "data": {
      "image/png": "[encoded data removed]",
      "text/plain": [
       "<Figure size 432x288 with 1 Axes>"
      ]
     },
     "metadata": {
      "needs_background": "light"
     },
     "output_type": "display_data"
    },
    {
     "name": "stdout",
     "output_type": "stream",
     "text": [
      "1090\n",
      "Caja :  250 330 120  --  Posición :  250 0 1090\n"
     ]
    },
    {
     "data": {
      "image/png": "[encoded data removed]",
      "text/plain": [
       "<Figure size 432x288 with 1 Axes>"
      ]
     },
     "metadata": {
      "needs_background": "light"
     },
     "output_type": "display_data"
    },
    {
     "name": "stdout",
     "output_type": "stream",
     "text": [
      "1090\n",
      "Caja :  250 330 120  --  Posición :  500 0 1090\n"
     ]
    },
    {
     "data": {
      "image/png": "[encoded data removed]",
      "text/plain": [
       "<Figure size 432x288 with 1 Axes>"
      ]
     },
     "metadata": {
      "needs_background": "light"
     },
     "output_type": "display_data"
    },
    {
     "name": "stdout",
     "output_type": "stream",
     "text": [
      "1100\n",
      "Caja :  280 370 130  --  Posición :  880 350 1100\n"
     ]
    },
    {
     "data": {
      "image/png": "[encoded data removed]",
      "text/plain": [
       "<Figure size 432x288 with 1 Axes>"
      ]
     },
     "metadata": {
      "needs_background": "light"
     },
     "output_type": "display_data"
    },
    {
     "name": "stdout",
     "output_type": "stream",
     "text": [
      "1090\n",
      "Caja :  250 330 120  --  Posición :  750 -10 1090\n"
     ]
    },
    {
     "data": {
      "image/png": "[encoded data removed]",
      "text/plain": [
       "<Figure size 432x288 with 1 Axes>"
      ]
     },
     "metadata": {
      "needs_background": "light"
     },
     "output_type": "display_data"
    },
    {
     "name": "stdout",
     "output_type": "stream",
     "text": [
      "1130\n",
      "Caja :  240 310 110  --  Posición :  10 330 1130\n"
     ]
    },
    {
     "data": {
      "image/png": "[encoded data removed]",
      "text/plain": [
       "<Figure size 432x288 with 1 Axes>"
      ]
     },
     "metadata": {
      "needs_background": "light"
     },
     "output_type": "display_data"
    },
    {
     "name": "stdout",
     "output_type": "stream",
     "text": [
      "1090\n",
      "Caja :  250 330 120  --  Posición :  0 0 1090\n"
     ]
    },
    {
     "data": {
      "image/png": "[encoded data removed]",
      "text/plain": [
       "<Figure size 432x288 with 1 Axes>"
      ]
     },
     "metadata": {
      "needs_background": "light"
     },
     "output_type": "display_data"
    },
    {
     "name": "stdout",
     "output_type": "stream",
     "text": [
      "1230\n",
      "Caja :  260 370 150  --  Posición :  880 320 1230\n"
     ]
    },
    {
     "data": {
      "image/png": "[encoded data removed]",
      "text/plain": [
       "<Figure size 432x288 with 1 Axes>"
      ]
     },
     "metadata": {
      "needs_background": "light"
     },
     "output_type": "display_data"
    },
    {
     "name": "stdout",
     "output_type": "stream",
     "text": [
      "1090\n",
      "Caja :  170 230 160  --  Posición :  1000 10 1090\n"
     ]
    },
    {
     "data": {
      "image/png": "[encoded data removed]",
      "text/plain": [
       "<Figure size 432x288 with 1 Axes>"
      ]
     },
     "metadata": {
      "needs_background": "light"
     },
     "output_type": "display_data"
    },
    {
     "name": "stdout",
     "output_type": "stream",
     "text": [
      "1240\n",
      "Caja :  230 300 110  --  Posición :  650 500 1240\n"
     ]
    },
    {
     "data": {
      "image/png": "[encoded data removed]",
      "text/plain": [
       "<Figure size 432x288 with 1 Axes>"
      ]
     },
     "metadata": {
      "needs_background": "light"
     },
     "output_type": "display_data"
    },
    {
     "name": "stdout",
     "output_type": "stream",
     "text": [
      "1240\n",
      "Caja :  240 310 110  --  Posición :  410 500 1240\n"
     ]
    },
    {
     "data": {
      "image/png": "[encoded data removed]",
      "text/plain": [
       "<Figure size 432x288 with 1 Axes>"
      ]
     },
     "metadata": {
      "needs_background": "light"
     },
     "output_type": "display_data"
    },
    {
     "name": "stdout",
     "output_type": "stream",
     "text": [
      "1240\n",
      "Caja :  180 160 90  --  Posición :  600 340 1240\n"
     ]
    },
    {
     "data": {
      "image/png": "[encoded data removed]",
      "text/plain": [
       "<Figure size 432x288 with 1 Axes>"
      ]
     },
     "metadata": {
      "needs_background": "light"
     },
     "output_type": "display_data"
    },
    {
     "name": "stdout",
     "output_type": "stream",
     "text": [
      "1210\n",
      "Caja :  250 330 120  --  Posición :  750 -10 1210\n"
     ]
    },
    {
     "data": {
      "image/png": "[encoded data removed]",
      "text/plain": [
       "<Figure size 432x288 with 1 Axes>"
      ]
     },
     "metadata": {
      "needs_background": "light"
     },
     "output_type": "display_data"
    },
    {
     "name": "stdout",
     "output_type": "stream",
     "text": [
      "1210\n",
      "Caja :  250 330 120  --  Posición :  500 0 1210\n"
     ]
    },
    {
     "data": {
      "image/png": "[encoded data removed]",
      "text/plain": [
       "<Figure size 432x288 with 1 Axes>"
      ]
     },
     "metadata": {
      "needs_background": "light"
     },
     "output_type": "display_data"
    },
    {
     "name": "stdout",
     "output_type": "stream",
     "text": [
      "1240\n",
      "Caja :  240 310 110  --  Posición :  170 380 1240\n"
     ]
    },
    {
     "data": {
      "image/png": "[encoded data removed]",
      "text/plain": [
       "<Figure size 432x288 with 1 Axes>"
      ]
     },
     "metadata": {
      "needs_background": "light"
     },
     "output_type": "display_data"
    },
    {
     "name": "stdout",
     "output_type": "stream",
     "text": [
      "1210\n",
      "Caja :  250 330 120  --  Posición :  250 0 1210\n"
     ]
    },
    {
     "data": {
      "image/png": "[encoded data removed]",
      "text/plain": [
       "<Figure size 432x288 with 1 Axes>"
      ]
     },
     "metadata": {
      "needs_background": "light"
     },
     "output_type": "display_data"
    },
    {
     "name": "stdout",
     "output_type": "stream",
     "text": [
      "1240\n",
      "Caja :  170 210 200  --  Posición :  0 350 1240\n"
     ]
    },
    {
     "data": {
      "image/png": "[encoded data removed]",
      "text/plain": [
       "<Figure size 432x288 with 1 Axes>"
      ]
     },
     "metadata": {
      "needs_background": "light"
     },
     "output_type": "display_data"
    },
    {
     "name": "stdout",
     "output_type": "stream",
     "text": [
      "1210\n",
      "Caja :  250 330 120  --  Posición :  0 0 1210\n"
     ]
    },
    {
     "data": {
      "image/png": "[encoded data removed]",
      "text/plain": [
       "<Figure size 432x288 with 1 Axes>"
      ]
     },
     "metadata": {
      "needs_background": "light"
     },
     "output_type": "display_data"
    },
    {
     "name": "stdout",
     "output_type": "stream",
     "text": [
      "1330\n",
      "Caja :  180 160 90  --  Posición :  600 320 1330\n"
     ]
    },
    {
     "data": {
      "image/png": "[encoded data removed]",
      "text/plain": [
       "<Figure size 432x288 with 1 Axes>"
      ]
     },
     "metadata": {
      "needs_background": "light"
     },
     "output_type": "display_data"
    },
    {
     "name": "stdout",
     "output_type": "stream",
     "text": [
      "1350\n",
      "Caja :  250 330 120  --  Posición :  250 380 1350\n"
     ]
    },
    {
     "data": {
      "image/png": "[encoded data removed]",
      "text/plain": [
       "<Figure size 432x288 with 1 Axes>"
      ]
     },
     "metadata": {
      "needs_background": "light"
     },
     "output_type": "display_data"
    },
    {
     "name": "stdout",
     "output_type": "stream",
     "text": [
      "1330\n",
      "Caja :  240 310 100  --  Posición :  180 70 1330\n"
     ]
    },
    {
     "data": {
      "image/png": "[encoded data removed]",
      "text/plain": [
       "<Figure size 432x288 with 1 Axes>"
      ]
     },
     "metadata": {
      "needs_background": "light"
     },
     "output_type": "display_data"
    },
    {
     "name": "stdout",
     "output_type": "stream",
     "text": [
      "1330\n",
      "Caja :  530 270 290  --  Posición :  470 50 1330\n"
     ]
    },
    {
     "data": {
      "image/png": "[encoded data removed]",
      "text/plain": [
       "<Figure size 432x288 with 1 Axes>"
      ]
     },
     "metadata": {
      "needs_background": "light"
     },
     "output_type": "display_data"
    },
    {
     "name": "stdout",
     "output_type": "stream",
     "text": [
      "1250\n",
      "Caja :  170 230 160  --  Posición :  1000 50 1250\n"
     ]
    },
    {
     "data": {
      "image/png": "[encoded data removed]",
      "text/plain": [
       "<Figure size 432x288 with 1 Axes>"
      ]
     },
     "metadata": {
      "needs_background": "light"
     },
     "output_type": "display_data"
    }
   ],
   "source": [
    "sx,sy = 1200, 800\n",
    "margen = 30\n",
    "\n",
    "myhead = [\"WIDTH\", \"LENGTH\", \"HEIGHT\", \"X\", \"Y\", \"Z\"]\n",
    "\n",
    "monton=np.zeros((sx+margen,sy+margen))\n",
    "l_data=len(data)\n",
    "\n",
    "fig = plt.figure()\n",
    "ax = fig.add_subplot(111)\n",
    "\n",
    "ax.imshow(monton)\n",
    "plt.show()\n",
    "\n",
    "Z = 0\n",
    "\n",
    "print(outfiles[38])\n",
    "\n",
    "for i in np.arange(l_data):\n",
    "    #clear_output(wait=True)\n",
    "    Z_i = data['Z'].iloc[i]\n",
    "    print(Z_i)\n",
    "    if Z!=Z_i:\n",
    "        Z = Z_i\n",
    "        #monton=np.ones((sx,sy))\n",
    "    \n",
    "    caja = data[myhead].iloc[i]\n",
    "    \n",
    "    monton = addCaja(monton, caja,int(margen/2))\n",
    "    \n",
    "    plt.imshow(np.transpose(monton))\n",
    "    #plt.imshow(monton, cmap = 'gray')\n",
    "    plt.xlim([-100, 1300])\n",
    "    plt.ylim([-100, 900])\n",
    "    plt.show()\n",
    "    \n",
    "    #plt.pause(0.5)\n",
    "\n",
    "\n",
    "\n",
    "\n",
    "\n"
   ]
  },
  {
   "cell_type": "code",
   "execution_count": null,
   "metadata": {},
   "outputs": [],
   "source": []
  },
  {
   "cell_type": "code",
   "execution_count": 123,
   "metadata": {},
   "outputs": [],
   "source": [
    "def addCaja(monton,caja,margen=0):\n",
    "    # add rectangle\n",
    "    # put pixels in black\n",
    "    x = caja['X'] \n",
    "    y = caja['Y']\n",
    "    w = caja['WIDTH']\n",
    "    l = caja['LENGTH']\n",
    "    h = caja['HEIGHT']\n",
    "    \n",
    "    print('Caja : ', w,l,h, ' --  Posición : ', x,y,caja['Z'])\n",
    "    altura = monton[x+margen:x+w+margen, y+margen:y+l+margen].max() + h\n",
    "    monton[x+margen:x+w+margen, y+margen:y+l+margen]=altura\n",
    "    \n",
    "    \n",
    "    return monton"
   ]
  },
  {
   "cell_type": "code",
   "execution_count": null,
   "metadata": {},
   "outputs": [],
   "source": []
  },
  {
   "cell_type": "code",
   "execution_count": null,
   "metadata": {},
   "outputs": [],
   "source": []
  },
  {
   "cell_type": "code",
   "execution_count": null,
   "metadata": {},
   "outputs": [],
   "source": []
  },
  {
   "cell_type": "code",
   "execution_count": 19,
   "metadata": {},
   "outputs": [
    {
     "data": {
      "text/plain": [
       "array([0., 0., 0., 0., 0., 0., 0., 0., 0., 0.])"
      ]
     },
     "execution_count": 19,
     "metadata": {},
     "output_type": "execute_result"
    }
   ],
   "source": [
    "x"
   ]
  },
  {
   "cell_type": "code",
   "execution_count": 67,
   "metadata": {},
   "outputs": [
    {
     "data": {
      "image/png": "[encoded data removed]",
      "text/plain": [
       "<Figure size 432x288 with 1 Axes>"
      ]
     },
     "metadata": {
      "needs_background": "light"
     },
     "output_type": "display_data"
    }
   ],
   "source": [
    "np.random.seed(19680801)\n",
    "data = np.random.random((50, 50, 50))\n",
    "\n",
    "fig, ax = plt.subplots()\n",
    "\n",
    "for i in range(len(data)):\n",
    "    ax.cla()\n",
    "    ax.imshow(data[i])\n",
    "    ax.set_title(\"frame {}\".format(i))\n",
    "    # Note that using time.sleep does *not* work here!\n",
    "    plt.pause(0.1)"
   ]
  },
  {
   "cell_type": "code",
   "execution_count": 29,
   "metadata": {},
   "outputs": [
    {
     "data": {
      "image/png": "[encoded data removed]",
      "text/plain": [
       "<Figure size 432x288 with 1 Axes>"
      ]
     },
     "metadata": {
      "needs_background": "light"
     },
     "output_type": "display_data"
    }
   ],
   "source": [
    "from IPython.display import clear_output\n",
    "\n",
    "x = np.zeros(10)\n",
    "y = np.zeros(10)\n",
    "\n",
    "for i in range(10):\n",
    "     clear_output(wait=True)\n",
    "     x[i] = i\n",
    "     y[i] = 2*x[i]*x[i]\n",
    "     plt.plot(x, y, '-r')\n",
    "     plt.show()\n",
    "     plt.pause(0.2)"
   ]
  }
 ],
 "metadata": {
  "kernelspec": {
   "display_name": "Python 3",
   "language": "python",
   "name": "python3"
  },
  "language_info": {
   "codemirror_mode": {
    "name": "ipython",
    "version": 3
   },
   "file_extension": ".py",
   "mimetype": "text/x-python",
   "name": "python",
   "nbconvert_exporter": "python",
   "pygments_lexer": "ipython3",
   "version": "3.6.9"
  }
 },
 "nbformat": 4,
 "nbformat_minor": 2
}
