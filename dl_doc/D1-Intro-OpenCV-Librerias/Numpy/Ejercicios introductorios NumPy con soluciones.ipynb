{
 "cells": [
  {
   "cell_type": "markdown",
   "metadata": {},
   "source": [
    "#### 0 Crea un vector con los primeros 20 número naturales y crea un vector de 4 filas y 5 columnas: utilizar función reshape"
   ]
  },
  {
   "cell_type": "code",
   "execution_count": 1,
   "metadata": {
    "pycharm": {
     "is_executing": false
    }
   },
   "outputs": [],
   "source": [
    "import numpy as np"
   ]
  },
  {
   "cell_type": "code",
   "execution_count": 155,
   "metadata": {},
   "outputs": [
    {
     "name": "stdout",
     "output_type": "stream",
     "text": [
      "[[ 1  2  3  4  5]\n",
      " [ 6  7  8  9 10]\n",
      " [11 12 13 14 15]\n",
      " [16 17 18 19 20]]\n"
     ]
    }
   ],
   "source": [
    "v = np.arange(1,21)\n",
    "v2 =v.reshape(4,5)\n",
    "print(v2)"
   ]
  },
  {
   "cell_type": "markdown",
   "metadata": {},
   "source": [
    "#### 1 Suma el primer número de la segunda línea a todos los números de la última columna"
   ]
  },
  {
   "cell_type": "code",
   "execution_count": 156,
   "metadata": {},
   "outputs": [
    {
     "name": "stdout",
     "output_type": "stream",
     "text": [
      "[[ 1  2  3  4 11]\n",
      " [ 6  7  8  9 16]\n",
      " [11 12 13 14 21]\n",
      " [16 17 18 19 26]]\n"
     ]
    }
   ],
   "source": [
    "v2[:,-1] =  v2[:,-1] + v2[1,0]\n",
    "print(v2)"
   ]
  },
  {
   "cell_type": "markdown",
   "metadata": {},
   "source": [
    "#### 2 Crea un vector con valores que vayan desde 10 a 49 e invierte el vector sin utilizar la función flip"
   ]
  },
  {
   "cell_type": "code",
   "execution_count": 2,
   "metadata": {},
   "outputs": [],
   "source": [
    "import numpy as np"
   ]
  },
  {
   "cell_type": "code",
   "execution_count": 3,
   "metadata": {},
   "outputs": [
    {
     "name": "stdout",
     "output_type": "stream",
     "text": [
      "[49 48 47 46 45 44 43 42 41 40 39 38 37 36 35 34 33 32 31 30 29 28 27 26\n",
      " 25 24 23 22 21 20 19 18 17 16 15 14 13 12 11 10]\n"
     ]
    }
   ],
   "source": [
    "a = np.arange(10,50)\n",
    "a = a[::-1]\n",
    "print(a)\n",
    "\n",
    "# explicación https://stackoverflow.com/questions/15748001/reversed-array-in-numpy"
   ]
  },
  {
   "cell_type": "markdown",
   "metadata": {},
   "source": [
    "#### 3 Crea un array 5x5 y rellenalo con el patrón de una trabla de ajedrez: 0 = negro, 1 = blanco\n",
    "<img src =\"https://upload.wikimedia.org/wikipedia/commons/thumb/7/70/Checkerboard_pattern.svg/500px-Checkerboard_pattern.svg.png\">\n"
   ]
  },
  {
   "cell_type": "code",
   "execution_count": 159,
   "metadata": {},
   "outputs": [
    {
     "name": "stdout",
     "output_type": "stream",
     "text": [
      "[[0 1 0 1 0]\n",
      " [1 0 1 0 1]\n",
      " [0 1 0 1 0]\n",
      " [1 0 1 0 1]\n",
      " [0 1 0 1 0]]\n"
     ]
    }
   ],
   "source": [
    "a = np.zeros((5,5),dtype = int)\n",
    "a[::2,1::2] = 1  #lineas pares / columnas impares\n",
    "a[1::2,0::2] = 1 #lineas impares / columnas pares\n",
    "\n",
    "print(a)"
   ]
  },
  {
   "cell_type": "markdown",
   "metadata": {},
   "source": [
    "#### 4 Crea una matriz 5x5 con valores entre 0 y 5. Utilizar función arange"
   ]
  },
  {
   "cell_type": "code",
   "execution_count": 4,
   "metadata": {},
   "outputs": [],
   "source": [
    "a = np.zeros((5,5), dtype = int)\n",
    "a = a + np.arange(5)"
   ]
  },
  {
   "cell_type": "markdown",
   "metadata": {},
   "source": [
    "#### 5 Genera un vector random de tamaño 10 y ordénalo"
   ]
  },
  {
   "cell_type": "code",
   "execution_count": 161,
   "metadata": {},
   "outputs": [
    {
     "name": "stdout",
     "output_type": "stream",
     "text": [
      "[0.17862053 0.28996648 0.43903193 0.4966028  0.62369431 0.80633814\n",
      " 0.84617559 0.88090965 0.91100732 0.92093001]\n"
     ]
    }
   ],
   "source": [
    "a = np.random.random(10)\n",
    "a.sort()\n",
    "print(a)"
   ]
  },
  {
   "cell_type": "markdown",
   "metadata": {},
   "source": [
    "#### 6 Genera un vector 2D aleatorio (5 x10) de números enteros y sustrae a cada elemento la media de cada línea de la matriz\n",
    "*Puedes utilizar los métodos mean y reshape para facilitar la solución"
   ]
  },
  {
   "cell_type": "code",
   "execution_count": 162,
   "metadata": {},
   "outputs": [
    {
     "name": "stdout",
     "output_type": "stream",
     "text": [
      "[[4 2 1 1 4 0 0 4 4 1]\n",
      " [1 3 4 0 3 4 1 1 4 0]\n",
      " [3 4 1 1 3 2 1 0 2 3]\n",
      " [4 4 2 0 3 3 1 3 4 3]\n",
      " [1 1 0 0 2 1 3 4 2 1]]\n",
      "[[ 1.9 -0.1 -1.1 -1.1  1.9 -2.1 -2.1  1.9  1.9 -1.1]\n",
      " [-1.1  0.9  1.9 -2.1  0.9  1.9 -1.1 -1.1  1.9 -2.1]\n",
      " [ 1.   2.  -1.  -1.   1.   0.  -1.  -2.   0.   1. ]\n",
      " [ 1.3  1.3 -0.7 -2.7  0.3  0.3 -1.7  0.3  1.3  0.3]\n",
      " [-0.5 -0.5 -1.5 -1.5  0.5 -0.5  1.5  2.5  0.5 -0.5]]\n",
      "[[ 1.9 -0.1 -1.1 -1.1  1.9 -2.1 -2.1  1.9  1.9 -1.1]\n",
      " [-1.1  0.9  1.9 -2.1  0.9  1.9 -1.1 -1.1  1.9 -2.1]\n",
      " [ 1.   2.  -1.  -1.   1.   0.  -1.  -2.   0.   1. ]\n",
      " [ 1.3  1.3 -0.7 -2.7  0.3  0.3 -1.7  0.3  1.3  0.3]\n",
      " [-0.5 -0.5 -1.5 -1.5  0.5 -0.5  1.5  2.5  0.5 -0.5]]\n"
     ]
    }
   ],
   "source": [
    "a = np.random.randint(5,size=(5,10))\n",
    "print(a)\n",
    "\n",
    "y = a - a.mean(axis = 1).reshape(-1,1) #opcion A\n",
    "print(y)\n",
    "\n",
    "z = a - a.mean(axis = 1, keepdims = True) #opcion B\n",
    "print(z)\n",
    "\n",
    "\n",
    "    "
   ]
  },
  {
   "cell_type": "markdown",
   "metadata": {},
   "source": [
    "#### 7 Escribe una función que ordene un array indicando un número de columna: utilizar la función argsort,\n",
    "Ejemplo:\n",
    "\n",
    "M1 =[[2 4 2]\n",
    " [4 1 3]\n",
    " [3 0 0]] <br>\n",
    "Si la ordenamos por la columna = 1 => <br>\n",
    "[[3 0 0]\n",
    " [4 1 3]\n",
    " [2 4 2]]"
   ]
  },
  {
   "cell_type": "code",
   "execution_count": 6,
   "metadata": {},
   "outputs": [
    {
     "name": "stdout",
     "output_type": "stream",
     "text": [
      "[[2 4 2]\n",
      " [4 1 3]\n",
      " [3 0 0]]\n",
      "[2 1 0]\n",
      "[[3 0 0]\n",
      " [4 1 3]\n",
      " [2 4 2]]\n"
     ]
    }
   ],
   "source": [
    "Z = np.random.randint(0,5,(3,3))\n",
    "print(Z)\n",
    "a = Z[:,1].argsort()\n",
    "print(a)\n",
    "#print(a)\n",
    "print(Z[a])\n"
   ]
  },
  {
   "cell_type": "markdown",
   "metadata": {},
   "source": [
    "#### 8 Desarrolla una función que aplique la exponencial a cada elemento de una matriz/vector.\n"
   ]
  },
  {
   "cell_type": "code",
   "execution_count": 4,
   "metadata": {},
   "outputs": [
    {
     "name": "stdout",
     "output_type": "stream",
     "text": [
      "[[1.43777922]\n",
      " [1.5739332 ]\n",
      " [2.42125315]\n",
      " [1.02770899]\n",
      " [1.61513626]]\n",
      "[[1.43777922]\n",
      " [1.5739332 ]\n",
      " [2.42125315]\n",
      " [1.02770899]\n",
      " [1.61513626]]\n"
     ]
    }
   ],
   "source": [
    "import numpy as np\n",
    "import math\n",
    "\n",
    "\n",
    "v = np.random.random(size=(5,1))\n",
    "n = v.shape[0]\n",
    "\n",
    "\n",
    "u = np.zeros((n,1))\n",
    "\n",
    "\n",
    "for i in range(n):\n",
    "    u[i]= math.exp(v[i])\n",
    "print(u)\n",
    "    \n",
    "u2 = np.exp(v)\n",
    "print(u2)\n"
   ]
  },
  {
   "cell_type": "code",
   "execution_count": null,
   "metadata": {},
   "outputs": [],
   "source": []
  }
 ],
 "metadata": {
  "kernelspec": {
   "display_name": "Python 3",
   "language": "python",
   "name": "python3"
  },
  "language_info": {
   "codemirror_mode": {
    "name": "ipython",
    "version": 3
   },
   "file_extension": ".py",
   "mimetype": "text/x-python",
   "name": "python",
   "nbconvert_exporter": "python",
   "pygments_lexer": "ipython3",
   "version": "3.6.9"
  }
 },
 "nbformat": 4,
 "nbformat_minor": 2
}
